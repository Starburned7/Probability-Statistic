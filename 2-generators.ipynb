{
 "cells": [
  {
   "cell_type": "markdown",
   "id": "ec57b650",
   "metadata": {},
   "source": [
    "# Generators"
   ]
  },
  {
   "cell_type": "code",
   "execution_count": 4,
   "id": "65b6c071",
   "metadata": {},
   "outputs": [],
   "source": [
    "import pandas as pd\n",
    "import numpy as np\n",
    "import seaborn as sns"
   ]
  },
  {
   "cell_type": "markdown",
   "id": "2257493f",
   "metadata": {},
   "source": [
    "Generator, in other word is a random variable. Or a mechanism to generate a random variable."
   ]
  },
  {
   "cell_type": "markdown",
   "id": "d1a56b00",
   "metadata": {},
   "source": [
    "## Binomial distribution"
   ]
  },
  {
   "cell_type": "markdown",
   "id": "43b47df6",
   "metadata": {},
   "source": [
    "**random.binomial(n, p, size=None) draws samples from a binomial distribution.**\n",
    "Samples are drawn from a binomial distribution with specified parameters, n trials and p probability of success where n an integer >= 0 and p is in the interval [0,1]."
   ]
  },
  {
   "cell_type": "code",
   "execution_count": 12,
   "id": "6d4b0fea",
   "metadata": {},
   "outputs": [
    {
     "data": {
      "text/plain": [
       "1"
      ]
     },
     "execution_count": 12,
     "metadata": {},
     "output_type": "execute_result"
    }
   ],
   "source": [
    "# coin toss imitation\n",
    "np.random.binomial(1,0.5)"
   ]
  },
  {
   "cell_type": "code",
   "execution_count": 13,
   "id": "630e80c2",
   "metadata": {},
   "outputs": [],
   "source": [
    "# 3 coin tosses\n",
    "result = []\n",
    "for _ in range(3):\n",
    "    result.append(np.random.binomial(1,0.5))"
   ]
  },
  {
   "cell_type": "code",
   "execution_count": 4,
   "id": "9044a8d7",
   "metadata": {},
   "outputs": [
    {
     "data": {
      "text/plain": [
       "0"
      ]
     },
     "execution_count": 4,
     "metadata": {},
     "output_type": "execute_result"
    }
   ],
   "source": [
    "result "
   ]
  },
  {
   "cell_type": "code",
   "execution_count": 18,
   "id": "663f5508",
   "metadata": {},
   "outputs": [
    {
     "data": {
      "text/plain": [
       "[1, 1, 1]"
      ]
     },
     "execution_count": 18,
     "metadata": {},
     "output_type": "execute_result"
    }
   ],
   "source": [
    "# 3 coin tosses using list comprehension\n",
    "[np.random.binomial(1, 0.5) for _ in range(3)]"
   ]
  },
  {
   "cell_type": "code",
   "execution_count": 19,
   "id": "95c7fe5d",
   "metadata": {},
   "outputs": [
    {
     "data": {
      "text/plain": [
       "array([1, 1, 0])"
      ]
     },
     "execution_count": 19,
     "metadata": {},
     "output_type": "execute_result"
    }
   ],
   "source": [
    "np.random.binomial(1,0.5,size=3)"
   ]
  },
  {
   "cell_type": "code",
   "execution_count": 46,
   "id": "426fcd43",
   "metadata": {},
   "outputs": [],
   "source": [
    "# creating a function for coin toss\n",
    "def coin_toss():\n",
    "    return np.random.binomial(1, 0.5)"
   ]
  },
  {
   "cell_type": "code",
   "execution_count": 47,
   "id": "327f1b06",
   "metadata": {},
   "outputs": [
    {
     "data": {
      "text/plain": [
       "0"
      ]
     },
     "execution_count": 47,
     "metadata": {},
     "output_type": "execute_result"
    }
   ],
   "source": [
    "coin_toss()"
   ]
  },
  {
   "cell_type": "code",
   "execution_count": 48,
   "id": "e680e897",
   "metadata": {},
   "outputs": [
    {
     "data": {
      "text/plain": [
       "[1, 0, 0]"
      ]
     },
     "execution_count": 48,
     "metadata": {},
     "output_type": "execute_result"
    }
   ],
   "source": [
    "[coin_toss() for _ in range(3)]"
   ]
  },
  {
   "cell_type": "markdown",
   "id": "32630779",
   "metadata": {},
   "source": [
    "### Pandas Sample method"
   ]
  },
  {
   "cell_type": "markdown",
   "id": "09259cc8",
   "metadata": {},
   "source": [
    "pandas Sample method returns a random sample of items from dataframe or series."
   ]
  },
  {
   "cell_type": "code",
   "execution_count": 38,
   "id": "cf0d0c43",
   "metadata": {},
   "outputs": [
    {
     "data": {
      "text/plain": [
       "1"
      ]
     },
     "execution_count": 38,
     "metadata": {},
     "output_type": "execute_result"
    }
   ],
   "source": [
    "pd.Series([0,1]).sample(1).values[0]"
   ]
  },
  {
   "cell_type": "code",
   "execution_count": 57,
   "id": "4de16a3c",
   "metadata": {},
   "outputs": [],
   "source": [
    "# creating a function for coin toss\n",
    "def coin_toss():\n",
    "    return pd.Series([0,1]).sample(1).values[0]"
   ]
  },
  {
   "cell_type": "code",
   "execution_count": 59,
   "id": "4f96d342",
   "metadata": {},
   "outputs": [
    {
     "data": {
      "text/plain": [
       "1"
      ]
     },
     "execution_count": 59,
     "metadata": {},
     "output_type": "execute_result"
    }
   ],
   "source": [
    "coin_toss()"
   ]
  },
  {
   "cell_type": "code",
   "execution_count": 63,
   "id": "558eb356",
   "metadata": {},
   "outputs": [
    {
     "data": {
      "text/plain": [
       "[1, 0, 1]"
      ]
     },
     "execution_count": 63,
     "metadata": {},
     "output_type": "execute_result"
    }
   ],
   "source": [
    "[coin_toss() for _ in range(3)]"
   ]
  },
  {
   "cell_type": "markdown",
   "id": "5141db37",
   "metadata": {},
   "source": [
    "Replace = True/ False allows or disallows sampling of the same row more than once. By default, the value that is provided is not returned.\n",
    "With \"True\" parameter we will have a sample with the replacement."
   ]
  },
  {
   "cell_type": "code",
   "execution_count": null,
   "id": "4a1e6791",
   "metadata": {},
   "outputs": [],
   "source": [
    "pd.Series([0,1]).sample(10,replace=True)"
   ]
  },
  {
   "cell_type": "code",
   "execution_count": 86,
   "id": "a62f9450",
   "metadata": {},
   "outputs": [],
   "source": [
    "# Will result in ValueError: Cannot take a larger sample than population when 'replace=False'\n",
    "pd.Series([0,1]).sample(3,replace=False)"
   ]
  },
  {
   "cell_type": "code",
   "execution_count": 85,
   "id": "6d3e1697",
   "metadata": {},
   "outputs": [
    {
     "data": {
      "text/plain": [
       "5    6\n",
       "0    1\n",
       "1    2\n",
       "2    3\n",
       "1    2\n",
       "5    6\n",
       "3    4\n",
       "0    1\n",
       "3    4\n",
       "5    6\n",
       "dtype: int64"
      ]
     },
     "execution_count": 85,
     "metadata": {},
     "output_type": "execute_result"
    }
   ],
   "source": [
    "# 6- sided dice - 10 tosses\n",
    "pd.Series([1,2,3,4,5,6]).sample(10,replace=True)"
   ]
  },
  {
   "cell_type": "code",
   "execution_count": 88,
   "id": "7c66e3f8",
   "metadata": {},
   "outputs": [
    {
     "data": {
      "text/plain": [
       "0    1\n",
       "1    5\n",
       "2    6\n",
       "3    4\n",
       "4    3\n",
       "5    4\n",
       "6    2\n",
       "7    3\n",
       "8    3\n",
       "9    6\n",
       "dtype: int64"
      ]
     },
     "execution_count": 88,
     "metadata": {},
     "output_type": "execute_result"
    }
   ],
   "source": [
    "# get rid of  reoccuring indexes\n",
    "pd.Series([1,2,3,4,5,6]).sample(10,replace=True).reset_index(drop=True)"
   ]
  },
  {
   "cell_type": "code",
   "execution_count": 89,
   "id": "1222f3f5",
   "metadata": {},
   "outputs": [
    {
     "data": {
      "image/png": "[encoded data removed]",
      "text/plain": [
       "<Figure size 432x288 with 1 Axes>"
      ]
     },
     "metadata": {
      "needs_background": "light"
     },
     "output_type": "display_data"
    }
   ],
   "source": [
    "# visualize binomial distribution on 1000 samples\n",
    "pd.Series(np.random.binomial(1,0.5,size=1000)).hist();"
   ]
  },
  {
   "cell_type": "code",
   "execution_count": 90,
   "id": "a2f141b4",
   "metadata": {},
   "outputs": [
    {
     "data": {
      "image/png": "[encoded data removed]",
      "text/plain": [
       "<Figure size 432x288 with 1 Axes>"
      ]
     },
     "metadata": {
      "needs_background": "light"
     },
     "output_type": "display_data"
    }
   ],
   "source": [
    "pd.Series([1,2,3,4,5,6]).sample(10000,replace=True).hist();"
   ]
  },
  {
   "cell_type": "markdown",
   "id": "f0a2727f",
   "metadata": {},
   "source": [
    "numpy.random.uniform drawa samples from a uniform distribution."
   ]
  },
  {
   "cell_type": "code",
   "execution_count": 93,
   "id": "f05ee479",
   "metadata": {},
   "outputs": [
    {
     "data": {
      "text/plain": [
       "0.9448432860016748"
      ]
     },
     "execution_count": 93,
     "metadata": {},
     "output_type": "execute_result"
    }
   ],
   "source": [
    "np.random.uniform()"
   ]
  },
  {
   "cell_type": "code",
   "execution_count": 95,
   "id": "1fd57107",
   "metadata": {},
   "outputs": [
    {
     "data": {
      "text/plain": [
       "0     0.591577\n",
       "1     0.285836\n",
       "2     0.797421\n",
       "3     0.789076\n",
       "4     0.361610\n",
       "        ...   \n",
       "95    0.662748\n",
       "96    0.034186\n",
       "97    0.241686\n",
       "98    0.345153\n",
       "99    0.242952\n",
       "Length: 100, dtype: float64"
      ]
     },
     "execution_count": 95,
     "metadata": {},
     "output_type": "execute_result"
    }
   ],
   "source": [
    "pd.Series(np.random.uniform(size=100))"
   ]
  },
  {
   "cell_type": "code",
   "execution_count": 96,
   "id": "37dca8fe",
   "metadata": {},
   "outputs": [
    {
     "data": {
      "image/png": "[encoded data removed]",
      "text/plain": [
       "<Figure size 432x288 with 1 Axes>"
      ]
     },
     "metadata": {
      "needs_background": "light"
     },
     "output_type": "display_data"
    }
   ],
   "source": [
    "pd.Series(np.random.uniform(size=10000)).hist();"
   ]
  },
  {
   "cell_type": "markdown",
   "id": "70c43041",
   "metadata": {},
   "source": [
    "## Normal distribution"
   ]
  },
  {
   "cell_type": "markdown",
   "id": "da81df3f",
   "metadata": {},
   "source": [
    "**numpy.random.normal draws random samples from a normal (Gaussian) distribution.**\n",
    "\n",
    "The probability density function of the normal distribution, first derived by De Moivre and 200 years later by both Gauss and Laplace independently, is often called the bell curve because of its characteristic shape.\n",
    "\n",
    "The normal distributions occurs often in nature. For example, it describes the commonly occurring distribution of samples influenced by a large number of tiny, random disturbances, each with its own unique distribution."
   ]
  },
  {
   "cell_type": "code",
   "execution_count": 99,
   "id": "99e6b0b7",
   "metadata": {},
   "outputs": [
    {
     "data": {
      "text/plain": [
       "0      0.047323\n",
       "1      1.572278\n",
       "2      1.012842\n",
       "3      0.180982\n",
       "4     -1.512986\n",
       "         ...   \n",
       "995   -0.005609\n",
       "996   -0.998890\n",
       "997    0.359947\n",
       "998    0.171344\n",
       "999   -1.231904\n",
       "Length: 1000, dtype: float64"
      ]
     },
     "execution_count": 99,
     "metadata": {},
     "output_type": "execute_result"
    }
   ],
   "source": [
    "pd.Series(np.random.normal(size=1000))"
   ]
  },
  {
   "cell_type": "code",
   "execution_count": 101,
   "id": "fcd80596",
   "metadata": {},
   "outputs": [
    {
     "data": {
      "image/png": "[encoded data removed]",
      "text/plain": [
       "<Figure size 432x288 with 1 Axes>"
      ]
     },
     "metadata": {
      "needs_background": "light"
     },
     "output_type": "display_data"
    }
   ],
   "source": [
    "pd.Series(np.random.normal(size=1000)).hist();"
   ]
  },
  {
   "cell_type": "markdown",
   "id": "328540ec",
   "metadata": {},
   "source": [
    "## Poisson distribution"
   ]
  },
  {
   "cell_type": "markdown",
   "id": "37ba9752",
   "metadata": {},
   "source": [
    "**numpy.random.poisson draws samples from a Poisson distribution.**\n",
    "\n",
    "The Poisson distribution is the limit of the binomial distribution for large N."
   ]
  },
  {
   "cell_type": "markdown",
   "id": "a409e740",
   "metadata": {},
   "source": [
    "#### Parameters:\n",
    "**lam: float or array_like of floats**.\n",
    "Expected number of events occurring in a fixed-time interval, must be >= 0. \n",
    "A sequence must be broadcastable over the requested size.\n",
    "\n",
    "**size: int or tuple of ints, optional**.\n",
    "Output shape. If the given shape is, e.g., (m, n, k), then m * n * k samples are drawn. \n",
    "If size is None (default), a single value is returned if lam is a scalar. Otherwise, np.array(lam).size samples are drawn."
   ]
  },
  {
   "cell_type": "code",
   "execution_count": 7,
   "id": "ac55b354",
   "metadata": {},
   "outputs": [
    {
     "data": {
      "text/plain": [
       "array([ 3,  5,  4,  3,  3,  7,  7,  4,  7,  7,  1,  6,  3,  4,  5,  1,  9,\n",
       "        4,  7,  6,  8,  5,  3,  5,  4,  6,  2,  4,  3,  4,  3,  5,  4,  9,\n",
       "        7,  8,  5,  5,  4,  3,  4,  5,  4,  5,  6,  6,  5,  4,  9,  5,  4,\n",
       "        6,  6,  7,  4,  5,  5,  4,  3,  1,  2,  7,  5,  2,  8,  4,  5,  5,\n",
       "        4,  6,  3,  2,  4,  2,  6,  6,  5,  5,  4,  4,  9,  7,  4,  6,  7,\n",
       "        6,  4,  3,  2, 11,  4,  1,  5,  6,  8,  4,  1,  5,  5, 11])"
      ]
     },
     "execution_count": 7,
     "metadata": {},
     "output_type": "execute_result"
    }
   ],
   "source": [
    "np.random.poisson(5, 100)"
   ]
  },
  {
   "cell_type": "markdown",
   "id": "c6d3bdb2",
   "metadata": {},
   "source": [
    "Poisson distribution can be used for a counter modelling. For example we can model a number of people contacting a call center, or how many people will visit a shopping center.\n",
    "Distribution is usually tends to have more data points sitated in the left side.\n"
   ]
  },
  {
   "cell_type": "code",
   "execution_count": 14,
   "id": "82cb4730",
   "metadata": {},
   "outputs": [
    {
     "data": {
      "image/png": "[encoded data removed]",
      "text/plain": [
       "<Figure size 432x288 with 1 Axes>"
      ]
     },
     "metadata": {
      "needs_background": "light"
     },
     "output_type": "display_data"
    }
   ],
   "source": [
    "# For example there 5 calls per hour in average\n",
    "pd.Series(np.random.poisson(5, size=1000)).hist();"
   ]
  },
  {
   "cell_type": "markdown",
   "id": "b4615d92",
   "metadata": {},
   "source": [
    "## Other generators example"
   ]
  },
  {
   "cell_type": "code",
   "execution_count": 15,
   "id": "13f87693",
   "metadata": {},
   "outputs": [
    {
     "data": {
      "image/png": "[encoded data removed]",
      "text/plain": [
       "<Figure size 432x288 with 1 Axes>"
      ]
     },
     "metadata": {
      "needs_background": "light"
     },
     "output_type": "display_data"
    }
   ],
   "source": [
    "pd.Series(np.random.chisquare(100,size=1000)).hist();"
   ]
  },
  {
   "cell_type": "code",
   "execution_count": 16,
   "id": "844aebe5",
   "metadata": {},
   "outputs": [
    {
     "data": {
      "image/png": "[encoded data removed]",
      "text/plain": [
       "<Figure size 432x288 with 1 Axes>"
      ]
     },
     "metadata": {
      "needs_background": "light"
     },
     "output_type": "display_data"
    }
   ],
   "source": [
    "pd.Series(np.random.lognormal(size=1000)).hist();"
   ]
  },
  {
   "cell_type": "code",
   "execution_count": 17,
   "id": "50704585",
   "metadata": {},
   "outputs": [
    {
     "data": {
      "image/png": "[encoded data removed]",
      "text/plain": [
       "<Figure size 432x288 with 1 Axes>"
      ]
     },
     "metadata": {
      "needs_background": "light"
     },
     "output_type": "display_data"
    }
   ],
   "source": [
    "pd.Series(np.random.pareto(3,size=10000)).hist();"
   ]
  },
  {
   "cell_type": "code",
   "execution_count": 18,
   "id": "ac63dd64",
   "metadata": {},
   "outputs": [
    {
     "data": {
      "image/png": "[encoded data removed]",
      "text/plain": [
       "<Figure size 432x288 with 1 Axes>"
      ]
     },
     "metadata": {
      "needs_background": "light"
     },
     "output_type": "display_data"
    }
   ],
   "source": [
    "uniform = pd.Series(np.random.uniform(size=10000)).hist()"
   ]
  },
  {
   "cell_type": "code",
   "execution_count": null,
   "id": "7f991b87",
   "metadata": {},
   "outputs": [],
   "source": []
  }
 ],
 "metadata": {
  "kernelspec": {
   "display_name": "Python 3 (ipykernel)",
   "language": "python",
   "name": "python3"
  },
  "language_info": {
   "codemirror_mode": {
    "name": "ipython",
    "version": 3
   },
   "file_extension": ".py",
   "mimetype": "text/x-python",
   "name": "python",
   "nbconvert_exporter": "python",
   "pygments_lexer": "ipython3",
   "version": "3.8.9"
  }
 },
 "nbformat": 4,
 "nbformat_minor": 5
}
