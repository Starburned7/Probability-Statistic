{
 "cells": [
  {
   "cell_type": "markdown",
   "id": "e87f42bc",
   "metadata": {},
   "source": [
    "## Random Variables, Probability Mass Function, Cumulative Density Function"
   ]
  },
  {
   "cell_type": "markdown",
   "id": "930a01e2",
   "metadata": {},
   "source": [
    "Random variables are functions with numerical outcomes that occur with some level of uncertainty. For example, rolling a 6-sided die could be considered a random variable with possible outcomes {1,2,3,4,5,6}.\n",
    "A random variable is, in its simplest form, a function."
   ]
  },
  {
   "cell_type": "code",
   "execution_count": null,
   "id": "b650fe7e",
   "metadata": {},
   "outputs": [],
   "source": [
    "import pandas as pd\n",
    "import numpy as np\n",
    "import seaborn as sns\n",
    "import scipy.stats as stats\n",
    "import matplotlib.pyplot as plt"
   ]
  },
  {
   "cell_type": "markdown",
   "id": "99713bfe",
   "metadata": {},
   "source": [
    "\n",
    "**numpy.random.choice(a, size = size, replace = True/False)** can be used to simulate random variables in Python. In this method:\n",
    "* a is a list or other object that has values we are sampling from\n",
    "* size is a number that represents how many values to choose\n",
    "* replace can be equal to True or False, and determines whether we keep a value in a after drawing it (replace = True) or remove it from the pool (replace = False).\n",
    "Code below simulates the outcome of rolling a fair die twice using np.random.choice():"
   ]
  },
  {
   "cell_type": "code",
   "execution_count": 4,
   "id": "8d07a05e",
   "metadata": {},
   "outputs": [],
   "source": [
    "dice_6 = range(1,7)"
   ]
  },
  {
   "cell_type": "code",
   "execution_count": 5,
   "id": "abd80654",
   "metadata": {},
   "outputs": [
    {
     "data": {
      "text/plain": [
       "range(1, 7)"
      ]
     },
     "execution_count": 5,
     "metadata": {},
     "output_type": "execute_result"
    }
   ],
   "source": [
    "dice_6"
   ]
  },
  {
   "cell_type": "code",
   "execution_count": 10,
   "id": "d03f0465",
   "metadata": {},
   "outputs": [],
   "source": [
    "rolls = np.random.choice(dice_6, size=2, replace=True)"
   ]
  },
  {
   "cell_type": "code",
   "execution_count": 11,
   "id": "0cc5d916",
   "metadata": {},
   "outputs": [
    {
     "data": {
      "text/plain": [
       "array([3, 2])"
      ]
     },
     "execution_count": 11,
     "metadata": {},
     "output_type": "execute_result"
    }
   ],
   "source": [
    "rolls"
   ]
  },
  {
   "cell_type": "code",
   "execution_count": 12,
   "id": "355c11e4",
   "metadata": {},
   "outputs": [],
   "source": [
    "dice = np.random.randint(1,7, size= 10000)"
   ]
  },
  {
   "cell_type": "code",
   "execution_count": 16,
   "id": "0d98a368",
   "metadata": {},
   "outputs": [
    {
     "data": {
      "image/png": "[encoded data removed]",
      "text/plain": [
       "<Figure size 432x288 with 1 Axes>"
      ]
     },
     "metadata": {
      "needs_background": "light"
     },
     "output_type": "display_data"
    }
   ],
   "source": [
    "sns.histplot(dice, stat='probability');"
   ]
  },
  {
   "cell_type": "markdown",
   "id": "c0d4e149",
   "metadata": {},
   "source": [
    "Graph above represents Probability Mass Function. Is shows the probability of getting every possible result."
   ]
  },
  {
   "cell_type": "code",
   "execution_count": null,
   "id": "1397cd72",
   "metadata": {},
   "outputs": [],
   "source": []
  }
 ],
 "metadata": {
  "kernelspec": {
   "display_name": "Python 3 (ipykernel)",
   "language": "python",
   "name": "python3"
  },
  "language_info": {
   "codemirror_mode": {
    "name": "ipython",
    "version": 3
   },
   "file_extension": ".py",
   "mimetype": "text/x-python",
   "name": "python",
   "nbconvert_exporter": "python",
   "pygments_lexer": "ipython3",
   "version": "3.8.9"
  }
 },
 "nbformat": 4,
 "nbformat_minor": 5
}
