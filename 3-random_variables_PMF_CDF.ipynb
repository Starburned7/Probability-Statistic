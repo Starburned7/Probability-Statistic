{
 "cells": [
  {
   "cell_type": "markdown",
   "id": "f5d118e3",
   "metadata": {},
   "source": [
    "## Random Variables, Probability Mass Function, Cumulative Density Function"
   ]
  },
  {
   "cell_type": "markdown",
   "id": "36c2e9dd",
   "metadata": {},
   "source": [
    "Random variables are functions with numerical outcomes that occur with some level of uncertainty. For example, rolling a 6-sided die could be considered a random variable with possible outcomes {1,2,3,4,5,6}.\n",
    "A random variable is, in its simplest form, a function."
   ]
  },
  {
   "cell_type": "code",
   "execution_count": null,
   "id": "6a82f038",
   "metadata": {},
   "outputs": [],
   "source": [
    "import pandas as pd\n",
    "import numpy as np\n",
    "import seaborn as sns\n",
    "import scipy.stats as stats\n",
    "import matplotlib.pyplot as plt"
   ]
  },
  {
   "cell_type": "markdown",
   "id": "b1301c57",
   "metadata": {},
   "source": [
    "\n",
    "**numpy.random.choice(a, size = size, replace = True/False)** can be used to simulate random variables in Python. In this method:\n",
    "* a is a list or other object that has values we are sampling from\n",
    "* size is a number that represents how many values to choose\n",
    "* replace can be equal to True or False, and determines whether we keep a value in a after drawing it (replace = True) or remove it from the pool (replace = False).\n",
    "Code below simulates the outcome of rolling a fair die twice using np.random.choice():"
   ]
  },
  {
   "cell_type": "code",
   "execution_count": 4,
   "id": "aacb11f6",
   "metadata": {},
   "outputs": [],
   "source": [
    "dice_6 = range(1,7)"
   ]
  },
  {
   "cell_type": "code",
   "execution_count": 5,
   "id": "b893b515",
   "metadata": {},
   "outputs": [
    {
     "data": {
      "text/plain": [
       "range(1, 7)"
      ]
     },
     "execution_count": 5,
     "metadata": {},
     "output_type": "execute_result"
    }
   ],
   "source": [
    "dice_6"
   ]
  },
  {
   "cell_type": "code",
   "execution_count": 10,
   "id": "c7413489",
   "metadata": {},
   "outputs": [],
   "source": [
    "rolls = np.random.choice(dice_6, size=2, replace=True)"
   ]
  },
  {
   "cell_type": "code",
   "execution_count": 11,
   "id": "6af7d5d1",
   "metadata": {},
   "outputs": [
    {
     "data": {
      "text/plain": [
       "array([3, 2])"
      ]
     },
     "execution_count": 11,
     "metadata": {},
     "output_type": "execute_result"
    }
   ],
   "source": [
    "rolls"
   ]
  },
  {
   "cell_type": "code",
   "execution_count": 12,
   "id": "12ca20eb",
   "metadata": {},
   "outputs": [],
   "source": [
    "dice = np.random.randint(1,7, size= 10000)"
   ]
  },
  {
   "cell_type": "code",
   "execution_count": 16,
   "id": "94826123",
   "metadata": {},
   "outputs": [
    {
     "data": {
      "image/png": "[encoded data removed]",
      "text/plain": [
       "<Figure size 432x288 with 1 Axes>"
      ]
     },
     "metadata": {
      "needs_background": "light"
     },
     "output_type": "display_data"
    }
   ],
   "source": [
    "sns.histplot(dice, stat='probability');"
   ]
  },
  {
   "cell_type": "markdown",
   "id": "bc7c1db0",
   "metadata": {},
   "source": [
    "## PMF"
   ]
  },
  {
   "cell_type": "markdown",
   "id": "99853a0c",
   "metadata": {},
   "source": [
    "Graph above represents Probability Mass Function. Is shows the probability of getting every possible result."
   ]
  },
  {
   "cell_type": "markdown",
   "id": "fabcc2c3",
   "metadata": {},
   "source": [
    "\n",
    "A probability mass function (PMF) is a type of probability distribution that defines the probability of observing a particular value of a discrete random variable. For example, a PMF can be used to calculate the probability of rolling a three on a fair six-sided die.\n",
    "\n",
    "\n",
    "For example, suppose that we flip a fair coin some number of times and count the number of heads. The probability mass function that describes the likelihood of each possible outcome (eg., 0 heads, 1 head, 2 heads, etc.) is called the binomial distribution. \n",
    "The parameters for the binomial distribution are:\n",
    "\n",
    "* **n** for the number of trials (eg., n=10 if we flip a coin 10 times)\n",
    "* **p** for the probability of success in each trial (probability of observing a particular outcome in each trial. In this example, p= 0.5 because the probability of observing heads on a fair coin flip is 0.5)."
   ]
  },
  {
   "cell_type": "code",
   "execution_count": 21,
   "id": "d4fee3c8",
   "metadata": {},
   "outputs": [
    {
     "data": {
      "text/plain": [
       "1"
      ]
     },
     "execution_count": 21,
     "metadata": {},
     "output_type": "execute_result"
    }
   ],
   "source": [
    "# Tossing a coin once\n",
    "np.random.binomial(1, p=0.5)"
   ]
  },
  {
   "cell_type": "code",
   "execution_count": 22,
   "id": "11218a50",
   "metadata": {},
   "outputs": [
    {
     "data": {
      "text/plain": [
       "42"
      ]
     },
     "execution_count": 22,
     "metadata": {},
     "output_type": "execute_result"
    }
   ],
   "source": [
    "# Tossing a coin 100 times. To check have many heads we will have\n",
    "np.random.binomial(100, p=0.5)"
   ]
  },
  {
   "cell_type": "code",
   "execution_count": 23,
   "id": "7ef17396",
   "metadata": {},
   "outputs": [
    {
     "data": {
      "text/plain": [
       "76"
      ]
     },
     "execution_count": 23,
     "metadata": {},
     "output_type": "execute_result"
    }
   ],
   "source": [
    "# Tossing a biased coin 100 times\n",
    "np.random.binomial(100, p=0.7)"
   ]
  },
  {
   "cell_type": "code",
   "execution_count": 24,
   "id": "b8483d79",
   "metadata": {},
   "outputs": [
    {
     "data": {
      "text/plain": [
       "100"
      ]
     },
     "execution_count": 24,
     "metadata": {},
     "output_type": "execute_result"
    }
   ],
   "source": [
    "# Tossing a completely biased coin 100 times\n",
    "np.random.binomial(100, p=1)"
   ]
  },
  {
   "cell_type": "code",
   "execution_count": 26,
   "id": "92eb9240",
   "metadata": {},
   "outputs": [
    {
     "data": {
      "image/png": "[encoded data removed]",
      "text/plain": [
       "<Figure size 432x288 with 1 Axes>"
      ]
     },
     "metadata": {
      "needs_background": "light"
     },
     "output_type": "display_data"
    }
   ],
   "source": [
    "# Let's repeat experiment 10000 times and visualize. We repeat 10 coin tosses 10000 times.\n",
    "sns.histplot(np.random.binomial(10,0.5,size=10000));"
   ]
  },
  {
   "cell_type": "markdown",
   "id": "2dcfad91",
   "metadata": {},
   "source": [
    "If we flip a fair coin 10 times, we say that the number of observed heads follows a Binomial(n=10, p=0.5) distribution. The graph above shows the probability mass function for this experiment. The heights of the bars represent the probability of observing each possible outcome as calculated by the PMF."
   ]
  },
  {
   "cell_type": "markdown",
   "id": "718594e5",
   "metadata": {},
   "source": [
    "## CDF"
   ]
  },
  {
   "cell_type": "code",
   "execution_count": 29,
   "id": "e306bba8",
   "metadata": {},
   "outputs": [
    {
     "data": {
      "image/png": "[encoded data removed]",
      "text/plain": [
       "<Figure size 432x288 with 1 Axes>"
      ]
     },
     "metadata": {
      "needs_background": "light"
     },
     "output_type": "display_data"
    }
   ],
   "source": [
    "sns.ecdfplot(np.random.binomial(10,0.5,size=10000));"
   ]
  },
  {
   "cell_type": "markdown",
   "id": "0c113898",
   "metadata": {},
   "source": [
    "CDF is a derivative from PMF.CDF represents a kind of 'cumulative' probability"
   ]
  },
  {
   "cell_type": "markdown",
   "id": "5128af93",
   "metadata": {},
   "source": [
    "## Examples"
   ]
  },
  {
   "cell_type": "code",
   "execution_count": 32,
   "id": "b0bda2cb",
   "metadata": {},
   "outputs": [],
   "source": [
    "dice = np.random.randint(1,7, size= 100000)"
   ]
  },
  {
   "cell_type": "code",
   "execution_count": 33,
   "id": "8113cc52",
   "metadata": {},
   "outputs": [
    {
     "data": {
      "image/png": "[encoded data removed]",
      "text/plain": [
       "<Figure size 432x288 with 1 Axes>"
      ]
     },
     "metadata": {
      "needs_background": "light"
     },
     "output_type": "display_data"
    }
   ],
   "source": [
    "# 6-sided dice PMF\n",
    "sns.histplot(dice,stat='probability');"
   ]
  },
  {
   "cell_type": "code",
   "execution_count": 35,
   "id": "92630ace",
   "metadata": {},
   "outputs": [
    {
     "data": {
      "image/png": "[encoded data removed]",
      "text/plain": [
       "<Figure size 432x288 with 1 Axes>"
      ]
     },
     "metadata": {
      "needs_background": "light"
     },
     "output_type": "display_data"
    }
   ],
   "source": [
    "sns.ecdfplot(dice);"
   ]
  },
  {
   "cell_type": "code",
   "execution_count": 36,
   "id": "e6c02ccc",
   "metadata": {},
   "outputs": [
    {
     "data": {
      "text/plain": [
       "0.3333333333333333"
      ]
     },
     "execution_count": 36,
     "metadata": {},
     "output_type": "execute_result"
    }
   ],
   "source": [
    "2/6"
   ]
  },
  {
   "cell_type": "code",
   "execution_count": 37,
   "id": "591fd8b5",
   "metadata": {},
   "outputs": [
    {
     "data": {
      "image/png": "[encoded data removed]",
      "text/plain": [
       "<Figure size 432x288 with 1 Axes>"
      ]
     },
     "metadata": {
      "needs_background": "light"
     },
     "output_type": "display_data"
    }
   ],
   "source": [
    "# unfair dice\n",
    "sns.histplot(pd.Series([1,2,3,4,4,5,6]).sample(10000,replace=True),stat='probability');"
   ]
  },
  {
   "cell_type": "code",
   "execution_count": 38,
   "id": "b1d9a3db",
   "metadata": {},
   "outputs": [
    {
     "data": {
      "image/png": "[encoded data removed]",
      "text/plain": [
       "<Figure size 432x288 with 1 Axes>"
      ]
     },
     "metadata": {
      "needs_background": "light"
     },
     "output_type": "display_data"
    }
   ],
   "source": [
    "sns.ecdfplot(pd.Series([1,2,3,4,4,5,6]).sample(10000,replace=True));"
   ]
  },
  {
   "cell_type": "code",
   "execution_count": 39,
   "id": "02298cef",
   "metadata": {},
   "outputs": [
    {
     "data": {
      "image/png": "[encoded data removed]",
      "text/plain": [
       "<Figure size 432x288 with 1 Axes>"
      ]
     },
     "metadata": {
      "needs_background": "light"
     },
     "output_type": "display_data"
    }
   ],
   "source": [
    "sns.histplot(np.random.normal(size=10000),stat='probability');"
   ]
  },
  {
   "cell_type": "code",
   "execution_count": 40,
   "id": "f0b1bec3",
   "metadata": {},
   "outputs": [
    {
     "data": {
      "image/png": "[encoded data removed]",
      "text/plain": [
       "<Figure size 432x288 with 1 Axes>"
      ]
     },
     "metadata": {
      "needs_background": "light"
     },
     "output_type": "display_data"
    }
   ],
   "source": [
    "sns.kdeplot(np.random.normal(size=10000));"
   ]
  },
  {
   "cell_type": "markdown",
   "id": "362e4c6f",
   "metadata": {},
   "source": [
    "KDE plot. A kernel density estimate (KDE) plot is a method for visualizing the distribution of observations in a dataset, analagous to a histogram. \n",
    "KDE grapf builds an approximate PDF function based on a sample. CDF represents an area under its curve."
   ]
  },
  {
   "cell_type": "code",
   "execution_count": 43,
   "id": "0e540288",
   "metadata": {},
   "outputs": [
    {
     "data": {
      "image/png": "[encoded data removed]",
      "text/plain": [
       "<Figure size 432x288 with 1 Axes>"
      ]
     },
     "metadata": {
      "needs_background": "light"
     },
     "output_type": "display_data"
    }
   ],
   "source": [
    "sns.ecdfplot(np.random.normal(size=10000));"
   ]
  },
  {
   "cell_type": "code",
   "execution_count": 44,
   "id": "2c38a57f",
   "metadata": {},
   "outputs": [
    {
     "data": {
      "image/png": "[encoded data removed]",
      "text/plain": [
       "<Figure size 432x288 with 1 Axes>"
      ]
     },
     "metadata": {
      "needs_background": "light"
     },
     "output_type": "display_data"
    }
   ],
   "source": [
    "sns.histplot(np.random.uniform(size=10000));"
   ]
  },
  {
   "cell_type": "code",
   "execution_count": 46,
   "id": "e085c6d2",
   "metadata": {},
   "outputs": [
    {
     "data": {
      "image/png": "[encoded data removed]",
      "text/plain": [
       "<Figure size 432x288 with 1 Axes>"
      ]
     },
     "metadata": {
      "needs_background": "light"
     },
     "output_type": "display_data"
    }
   ],
   "source": [
    "sns.ecdfplot(np.random.uniform(size=10000));"
   ]
  },
  {
   "cell_type": "markdown",
   "id": "4452d797",
   "metadata": {},
   "source": [
    "CDF can also be used in order to check the data distribution."
   ]
  },
  {
   "cell_type": "code",
   "execution_count": null,
   "id": "d6ac461b",
   "metadata": {},
   "outputs": [],
   "source": []
  }
 ],
 "metadata": {
  "kernelspec": {
   "display_name": "Python 3 (ipykernel)",
   "language": "python",
   "name": "python3"
  },
  "language_info": {
   "codemirror_mode": {
    "name": "ipython",
    "version": 3
   },
   "file_extension": ".py",
   "mimetype": "text/x-python",
   "name": "python",
   "nbconvert_exporter": "python",
   "pygments_lexer": "ipython3",
   "version": "3.8.9"
  }
 },
 "nbformat": 4,
 "nbformat_minor": 5
}
