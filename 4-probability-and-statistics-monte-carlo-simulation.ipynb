{
 "cells": [
  {
   "cell_type": "markdown",
   "id": "63515046",
   "metadata": {},
   "source": [
    "## Monte-Carlo Simulation for famous probability paradoxes"
   ]
  },
  {
   "cell_type": "code",
   "execution_count": 7,
   "id": "14b9169a",
   "metadata": {},
   "outputs": [],
   "source": [
    "import pandas as pd\n",
    "import numpy as np\n",
    "import seaborn as sns\n",
    "from random import shuffle"
   ]
  },
  {
   "cell_type": "markdown",
   "id": "fa0da3cd",
   "metadata": {},
   "source": [
    "Probability is an abstract concept. It suggests some kind of repetition."
   ]
  },
  {
   "cell_type": "markdown",
   "id": "bb09fee4",
   "metadata": {},
   "source": [
    "## Birthday paradox"
   ]
  },
  {
   "cell_type": "markdown",
   "id": "20297224",
   "metadata": {},
   "source": [
    "23 persons are situated in one room. What is the probability that at least 2 of them will have a birtday on the same day, if we repeat the experiment multiple times? "
   ]
  },
  {
   "cell_type": "code",
   "execution_count": 6,
   "id": "d69ec41a",
   "metadata": {},
   "outputs": [],
   "source": [
    "all_days = pd.Series(range(365))"
   ]
  },
  {
   "cell_type": "code",
   "execution_count": 7,
   "id": "b03f1e5c",
   "metadata": {},
   "outputs": [
    {
     "data": {
      "text/plain": [
       "0        0\n",
       "1        1\n",
       "2        2\n",
       "3        3\n",
       "4        4\n",
       "      ... \n",
       "360    360\n",
       "361    361\n",
       "362    362\n",
       "363    363\n",
       "364    364\n",
       "Length: 365, dtype: int64"
      ]
     },
     "execution_count": 7,
     "metadata": {},
     "output_type": "execute_result"
    }
   ],
   "source": [
    "all_days"
   ]
  },
  {
   "cell_type": "code",
   "execution_count": 8,
   "id": "2cb551ba",
   "metadata": {},
   "outputs": [],
   "source": [
    "# selecting 23 people so that days can be repeated\n",
    "room = all_days.sample(23, replace= True)"
   ]
  },
  {
   "cell_type": "code",
   "execution_count": 9,
   "id": "b0b1240f",
   "metadata": {},
   "outputs": [
    {
     "data": {
      "text/plain": [
       "311    311\n",
       "256    256\n",
       "99      99\n",
       "57      57\n",
       "252    252\n",
       "140    140\n",
       "92      92\n",
       "256    256\n",
       "104    104\n",
       "79      79\n",
       "124    124\n",
       "316    316\n",
       "198    198\n",
       "80      80\n",
       "215    215\n",
       "226    226\n",
       "289    289\n",
       "119    119\n",
       "98      98\n",
       "337    337\n",
       "272    272\n",
       "33      33\n",
       "258    258\n",
       "dtype: int64"
      ]
     },
     "execution_count": 9,
     "metadata": {},
     "output_type": "execute_result"
    }
   ],
   "source": [
    "room"
   ]
  },
  {
   "cell_type": "code",
   "execution_count": 10,
   "id": "41766ff6",
   "metadata": {},
   "outputs": [
    {
     "data": {
      "text/plain": [
       "311    False\n",
       "256    False\n",
       "99     False\n",
       "57     False\n",
       "252    False\n",
       "140    False\n",
       "92     False\n",
       "256     True\n",
       "104    False\n",
       "79     False\n",
       "124    False\n",
       "316    False\n",
       "198    False\n",
       "80     False\n",
       "215    False\n",
       "226    False\n",
       "289    False\n",
       "119    False\n",
       "98     False\n",
       "337    False\n",
       "272    False\n",
       "33     False\n",
       "258    False\n",
       "dtype: bool"
      ]
     },
     "execution_count": 10,
     "metadata": {},
     "output_type": "execute_result"
    }
   ],
   "source": [
    "# Check if there are duplicates\n",
    "room.duplicated()"
   ]
  },
  {
   "cell_type": "code",
   "execution_count": 11,
   "id": "462f3613",
   "metadata": {},
   "outputs": [
    {
     "data": {
      "text/plain": [
       "True"
      ]
     },
     "execution_count": 11,
     "metadata": {},
     "output_type": "execute_result"
    }
   ],
   "source": [
    "# If we want to squize the previous check to \"True\" or \"False\" we can use max()\n",
    "room.duplicated().max()"
   ]
  },
  {
   "cell_type": "code",
   "execution_count": 12,
   "id": "bb291348",
   "metadata": {},
   "outputs": [
    {
     "data": {
      "text/plain": [
       "False"
      ]
     },
     "execution_count": 12,
     "metadata": {},
     "output_type": "execute_result"
    }
   ],
   "source": [
    "all_days.sample(23, replace=True).duplicated().max()"
   ]
  },
  {
   "cell_type": "code",
   "execution_count": 13,
   "id": "5a1d03b8",
   "metadata": {},
   "outputs": [],
   "source": [
    "# repeating experiment 10000 times\n",
    "rooms = [all_days.sample(23, replace=True).duplicated().max() for _ in range(10000)]"
   ]
  },
  {
   "cell_type": "code",
   "execution_count": 15,
   "id": "0ada77ce",
   "metadata": {},
   "outputs": [
    {
     "data": {
      "text/plain": [
       "[False, False, True, False, True, False, False, False, False, False]"
      ]
     },
     "execution_count": 15,
     "metadata": {},
     "output_type": "execute_result"
    }
   ],
   "source": [
    "rooms[:10]"
   ]
  },
  {
   "cell_type": "code",
   "execution_count": 17,
   "id": "e7cc256c",
   "metadata": {},
   "outputs": [
    {
     "data": {
      "text/plain": [
       "0.5082"
      ]
     },
     "execution_count": 17,
     "metadata": {},
     "output_type": "execute_result"
    }
   ],
   "source": [
    "# calculate portion where concurrent dates occured\n",
    "np.mean(rooms)"
   ]
  },
  {
   "cell_type": "markdown",
   "id": "0081dde5",
   "metadata": {},
   "source": [
    "## Exam tickets case"
   ]
  },
  {
   "cell_type": "markdown",
   "id": "2538e0c5",
   "metadata": {},
   "source": [
    "Exam is organized in the following way. In case if any of the tickets is taken by a student, professor removes that ticket. Student is prepared for 20 tickets out of 30. What is the best strategy to go for the exam? Should student go first or second in order to select a ticket that he/she is prepared for?"
   ]
  },
  {
   "cell_type": "code",
   "execution_count": 3,
   "id": "50b258ed",
   "metadata": {},
   "outputs": [],
   "source": [
    "tickets = list(range(1,31))"
   ]
  },
  {
   "cell_type": "code",
   "execution_count": 4,
   "id": "408faede",
   "metadata": {},
   "outputs": [
    {
     "data": {
      "text/plain": [
       "[1,\n",
       " 2,\n",
       " 3,\n",
       " 4,\n",
       " 5,\n",
       " 6,\n",
       " 7,\n",
       " 8,\n",
       " 9,\n",
       " 10,\n",
       " 11,\n",
       " 12,\n",
       " 13,\n",
       " 14,\n",
       " 15,\n",
       " 16,\n",
       " 17,\n",
       " 18,\n",
       " 19,\n",
       " 20,\n",
       " 21,\n",
       " 22,\n",
       " 23,\n",
       " 24,\n",
       " 25,\n",
       " 26,\n",
       " 27,\n",
       " 28,\n",
       " 29,\n",
       " 30]"
      ]
     },
     "execution_count": 4,
     "metadata": {},
     "output_type": "execute_result"
    }
   ],
   "source": [
    "tickets"
   ]
  },
  {
   "cell_type": "code",
   "execution_count": 5,
   "id": "c1311758",
   "metadata": {},
   "outputs": [],
   "source": [
    "student = list(range(1,21))"
   ]
  },
  {
   "cell_type": "code",
   "execution_count": 6,
   "id": "2f63ecdc",
   "metadata": {},
   "outputs": [
    {
     "data": {
      "text/plain": [
       "[1, 2, 3, 4, 5, 6, 7, 8, 9, 10, 11, 12, 13, 14, 15, 16, 17, 18, 19, 20]"
      ]
     },
     "execution_count": 6,
     "metadata": {},
     "output_type": "execute_result"
    }
   ],
   "source": [
    "student"
   ]
  },
  {
   "cell_type": "code",
   "execution_count": 14,
   "id": "7100354d",
   "metadata": {},
   "outputs": [],
   "source": [
    "# The shuffle() method takes a sequence, like a list, and reorganize the order of the items randomly.\n",
    "# This method changes the original list, it does not return a new list.\n",
    "shuffle(tickets)"
   ]
  },
  {
   "cell_type": "code",
   "execution_count": 15,
   "id": "a54f2047",
   "metadata": {},
   "outputs": [
    {
     "data": {
      "text/plain": [
       "[23,\n",
       " 25,\n",
       " 4,\n",
       " 1,\n",
       " 20,\n",
       " 17,\n",
       " 12,\n",
       " 9,\n",
       " 28,\n",
       " 21,\n",
       " 19,\n",
       " 29,\n",
       " 2,\n",
       " 11,\n",
       " 7,\n",
       " 16,\n",
       " 5,\n",
       " 22,\n",
       " 15,\n",
       " 30,\n",
       " 27,\n",
       " 13,\n",
       " 26,\n",
       " 14,\n",
       " 8,\n",
       " 6,\n",
       " 3,\n",
       " 18,\n",
       " 24,\n",
       " 10]"
      ]
     },
     "execution_count": 15,
     "metadata": {},
     "output_type": "execute_result"
    }
   ],
   "source": [
    "tickets"
   ]
  },
  {
   "cell_type": "code",
   "execution_count": 16,
   "id": "e2519292",
   "metadata": {},
   "outputs": [
    {
     "data": {
      "text/plain": [
       "True"
      ]
     },
     "execution_count": 16,
     "metadata": {},
     "output_type": "execute_result"
    }
   ],
   "source": [
    "# Checking if student knows answer to ticket №3\n",
    "3 in student"
   ]
  },
  {
   "cell_type": "code",
   "execution_count": 17,
   "id": "3788fca4",
   "metadata": {},
   "outputs": [],
   "source": [
    "# Running & Repeating the experiment 100000 times\n",
    "n = 100000\n",
    "student = list(range(1,21))\n",
    "tickets = list(range(1,31))\n",
    "result = []\n",
    "\n",
    "for _ in range(n):\n",
    "  shuffle(tickets)\n",
    "  result.append(tickets[0] in student)"
   ]
  },
  {
   "cell_type": "code",
   "execution_count": 19,
   "id": "c54e4708",
   "metadata": {},
   "outputs": [
    {
     "data": {
      "text/plain": [
       "[True, True, True, True, False, True, True, True, False, False]"
      ]
     },
     "execution_count": 19,
     "metadata": {},
     "output_type": "execute_result"
    }
   ],
   "source": [
    "result[:10]"
   ]
  },
  {
   "cell_type": "code",
   "execution_count": 20,
   "id": "e23b341f",
   "metadata": {},
   "outputs": [
    {
     "data": {
      "text/plain": [
       "0.66569"
      ]
     },
     "execution_count": 20,
     "metadata": {},
     "output_type": "execute_result"
    }
   ],
   "source": [
    "np.mean(result)"
   ]
  },
  {
   "cell_type": "code",
   "execution_count": 21,
   "id": "38da037c",
   "metadata": {},
   "outputs": [],
   "source": [
    "n = 100000\n",
    "student = list(range(1,21))\n",
    "tickets = list(range(1,31))\n",
    "result = []\n",
    "\n",
    "for _ in range(n):\n",
    "  shuffle(tickets)\n",
    "  result.append(tickets[1] in student)"
   ]
  },
  {
   "cell_type": "code",
   "execution_count": 22,
   "id": "1689648c",
   "metadata": {},
   "outputs": [
    {
     "data": {
      "text/plain": [
       "0.66568"
      ]
     },
     "execution_count": 22,
     "metadata": {},
     "output_type": "execute_result"
    }
   ],
   "source": [
    "np.mean(result)"
   ]
  },
  {
   "cell_type": "code",
   "execution_count": 23,
   "id": "7a491126",
   "metadata": {},
   "outputs": [],
   "source": [
    "n = 100000\n",
    "student = list(range(1,21))\n",
    "tickets = list(range(1,31))\n",
    "result = []\n",
    "\n",
    "for _ in range(n):\n",
    "  shuffle(tickets)\n",
    "  result.append(tickets[2] in student)"
   ]
  },
  {
   "cell_type": "markdown",
   "id": "d2a1ff78",
   "metadata": {},
   "source": [
    "So, it does not matter if student will go for the exam first, second of third."
   ]
  },
  {
   "cell_type": "code",
   "execution_count": null,
   "id": "17b665f6",
   "metadata": {},
   "outputs": [],
   "source": []
  }
 ],
 "metadata": {
  "kernelspec": {
   "display_name": "Python 3 (ipykernel)",
   "language": "python",
   "name": "python3"
  },
  "language_info": {
   "codemirror_mode": {
    "name": "ipython",
    "version": 3
   },
   "file_extension": ".py",
   "mimetype": "text/x-python",
   "name": "python",
   "nbconvert_exporter": "python",
   "pygments_lexer": "ipython3",
   "version": "3.8.9"
  }
 },
 "nbformat": 4,
 "nbformat_minor": 5
}
