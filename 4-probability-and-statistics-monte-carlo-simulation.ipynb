{
 "cells": [
  {
   "cell_type": "markdown",
   "id": "63515046",
   "metadata": {},
   "source": [
    "## Monte-Carlo Simulation for famous probability paradoxes"
   ]
  },
  {
   "cell_type": "code",
   "execution_count": null,
   "id": "14b9169a",
   "metadata": {},
   "outputs": [],
   "source": [
    "import pandas as pd\n",
    "import numpy as np\n",
    "import seaborn as sns"
   ]
  },
  {
   "cell_type": "markdown",
   "id": "fa0da3cd",
   "metadata": {},
   "source": [
    "Probability is an abstract concept. It suggests some kind of repetition."
   ]
  },
  {
   "cell_type": "markdown",
   "id": "bb09fee4",
   "metadata": {},
   "source": [
    "## Birthday paradox"
   ]
  },
  {
   "cell_type": "markdown",
   "id": "20297224",
   "metadata": {},
   "source": [
    "23 persons are situated in one room. What is the probability that at least 2 of them will have a birtday on the same day, if we repeat the experiment multiple times? "
   ]
  },
  {
   "cell_type": "code",
   "execution_count": 6,
   "id": "d69ec41a",
   "metadata": {},
   "outputs": [],
   "source": [
    "all_days = pd.Series(range(365))"
   ]
  },
  {
   "cell_type": "code",
   "execution_count": 7,
   "id": "b03f1e5c",
   "metadata": {},
   "outputs": [
    {
     "data": {
      "text/plain": [
       "0        0\n",
       "1        1\n",
       "2        2\n",
       "3        3\n",
       "4        4\n",
       "      ... \n",
       "360    360\n",
       "361    361\n",
       "362    362\n",
       "363    363\n",
       "364    364\n",
       "Length: 365, dtype: int64"
      ]
     },
     "execution_count": 7,
     "metadata": {},
     "output_type": "execute_result"
    }
   ],
   "source": [
    "all_days"
   ]
  },
  {
   "cell_type": "code",
   "execution_count": 8,
   "id": "2cb551ba",
   "metadata": {},
   "outputs": [],
   "source": [
    "# selecting 23 people so that days can be repeated\n",
    "room = all_days.sample(23, replace= True)"
   ]
  },
  {
   "cell_type": "code",
   "execution_count": 9,
   "id": "b0b1240f",
   "metadata": {},
   "outputs": [
    {
     "data": {
      "text/plain": [
       "311    311\n",
       "256    256\n",
       "99      99\n",
       "57      57\n",
       "252    252\n",
       "140    140\n",
       "92      92\n",
       "256    256\n",
       "104    104\n",
       "79      79\n",
       "124    124\n",
       "316    316\n",
       "198    198\n",
       "80      80\n",
       "215    215\n",
       "226    226\n",
       "289    289\n",
       "119    119\n",
       "98      98\n",
       "337    337\n",
       "272    272\n",
       "33      33\n",
       "258    258\n",
       "dtype: int64"
      ]
     },
     "execution_count": 9,
     "metadata": {},
     "output_type": "execute_result"
    }
   ],
   "source": [
    "room"
   ]
  },
  {
   "cell_type": "code",
   "execution_count": 10,
   "id": "41766ff6",
   "metadata": {},
   "outputs": [
    {
     "data": {
      "text/plain": [
       "311    False\n",
       "256    False\n",
       "99     False\n",
       "57     False\n",
       "252    False\n",
       "140    False\n",
       "92     False\n",
       "256     True\n",
       "104    False\n",
       "79     False\n",
       "124    False\n",
       "316    False\n",
       "198    False\n",
       "80     False\n",
       "215    False\n",
       "226    False\n",
       "289    False\n",
       "119    False\n",
       "98     False\n",
       "337    False\n",
       "272    False\n",
       "33     False\n",
       "258    False\n",
       "dtype: bool"
      ]
     },
     "execution_count": 10,
     "metadata": {},
     "output_type": "execute_result"
    }
   ],
   "source": [
    "# Check if there are duplicates\n",
    "room.duplicated()"
   ]
  },
  {
   "cell_type": "code",
   "execution_count": 11,
   "id": "462f3613",
   "metadata": {},
   "outputs": [
    {
     "data": {
      "text/plain": [
       "True"
      ]
     },
     "execution_count": 11,
     "metadata": {},
     "output_type": "execute_result"
    }
   ],
   "source": [
    "# If we want to squize the previous check to \"True\" or \"False\" we can use max()\n",
    "room.duplicated().max()"
   ]
  },
  {
   "cell_type": "code",
   "execution_count": 12,
   "id": "bb291348",
   "metadata": {},
   "outputs": [
    {
     "data": {
      "text/plain": [
       "False"
      ]
     },
     "execution_count": 12,
     "metadata": {},
     "output_type": "execute_result"
    }
   ],
   "source": [
    "all_days.sample(23, replace=True).duplicated().max()"
   ]
  },
  {
   "cell_type": "code",
   "execution_count": 13,
   "id": "5a1d03b8",
   "metadata": {},
   "outputs": [],
   "source": [
    "# repeating experiment 10000 times\n",
    "rooms = [all_days.sample(23, replace=True).duplicated().max() for _ in range(10000)]"
   ]
  },
  {
   "cell_type": "code",
   "execution_count": 15,
   "id": "0ada77ce",
   "metadata": {},
   "outputs": [
    {
     "data": {
      "text/plain": [
       "[False, False, True, False, True, False, False, False, False, False]"
      ]
     },
     "execution_count": 15,
     "metadata": {},
     "output_type": "execute_result"
    }
   ],
   "source": [
    "rooms[:10]"
   ]
  },
  {
   "cell_type": "code",
   "execution_count": 17,
   "id": "e7cc256c",
   "metadata": {},
   "outputs": [
    {
     "data": {
      "text/plain": [
       "0.5082"
      ]
     },
     "execution_count": 17,
     "metadata": {},
     "output_type": "execute_result"
    }
   ],
   "source": [
    "# calculate portion where concurrent dates occured\n",
    "np.mean(rooms)"
   ]
  },
  {
   "cell_type": "code",
   "execution_count": null,
   "id": "16c1124b",
   "metadata": {},
   "outputs": [],
   "source": []
  }
 ],
 "metadata": {
  "kernelspec": {
   "display_name": "Python 3 (ipykernel)",
   "language": "python",
   "name": "python3"
  },
  "language_info": {
   "codemirror_mode": {
    "name": "ipython",
    "version": 3
   },
   "file_extension": ".py",
   "mimetype": "text/x-python",
   "name": "python",
   "nbconvert_exporter": "python",
   "pygments_lexer": "ipython3",
   "version": "3.8.9"
  }
 },
 "nbformat": 4,
 "nbformat_minor": 5
}
