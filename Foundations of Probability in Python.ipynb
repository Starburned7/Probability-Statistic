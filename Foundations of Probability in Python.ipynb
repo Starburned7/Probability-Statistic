{
 "cells": [
  {
   "cell_type": "markdown",
   "id": "4b6f8e90",
   "metadata": {},
   "source": [
    "## Flipping coins"
   ]
  },
  {
   "cell_type": "code",
   "execution_count": 119,
   "id": "e88e9452",
   "metadata": {},
   "outputs": [],
   "source": [
    "import pandas as pd\n",
    "import numpy as np\n",
    "import matplotlib.pyplot as plt\n",
    "from scipy.stats import bernoulli, binom, describe, find_repeats, relfreq"
   ]
  },
  {
   "cell_type": "code",
   "execution_count": 13,
   "id": "a0ee642d",
   "metadata": {},
   "outputs": [],
   "source": [
    "# Set the random seed to reproduce the results\n",
    "np.random.seed(42)\n",
    "# Simulate one coin flip with 35% chance of getting heads\n",
    "coin_flip = bernoulli.rvs(p=0.35, size=1)"
   ]
  },
  {
   "cell_type": "code",
   "execution_count": 14,
   "id": "5cf7e397",
   "metadata": {},
   "outputs": [
    {
     "data": {
      "text/plain": [
       "array([0])"
      ]
     },
     "execution_count": 14,
     "metadata": {},
     "output_type": "execute_result"
    }
   ],
   "source": [
    "coin_flip"
   ]
  },
  {
   "cell_type": "code",
   "execution_count": 15,
   "id": "c7a4f88d",
   "metadata": {},
   "outputs": [],
   "source": [
    "# Simulate ten coin flips and get the number of heads\n",
    "np.random.seed(42)\n",
    "ten_coin_flips=bernoulli.rvs(p=0.35, size=10)"
   ]
  },
  {
   "cell_type": "code",
   "execution_count": 17,
   "id": "9ec93a85",
   "metadata": {},
   "outputs": [
    {
     "data": {
      "text/plain": [
       "array([0, 1, 1, 0, 0, 0, 0, 1, 0, 1])"
      ]
     },
     "execution_count": 17,
     "metadata": {},
     "output_type": "execute_result"
    }
   ],
   "source": [
    "ten_coin_flips"
   ]
  },
  {
   "cell_type": "code",
   "execution_count": 18,
   "id": "8ae3b880",
   "metadata": {},
   "outputs": [
    {
     "data": {
      "text/plain": [
       "4"
      ]
     },
     "execution_count": 18,
     "metadata": {},
     "output_type": "execute_result"
    }
   ],
   "source": [
    "ten_coin_flips.sum()"
   ]
  },
  {
   "cell_type": "markdown",
   "id": "d2ec8b81",
   "metadata": {},
   "source": [
    "## Using binom to flip even more coins\n",
    "\n",
    "Previously, you simulated 10 coin flips with a 35% chance of getting heads using bernoulli.rvs().\n",
    "\n",
    "This exercise loads the binom object from scipy.stats so you can use binom.rvs() to simulate 20 trials of 10 coin flips with a 35% chance of getting heads on each coin flip."
   ]
  },
  {
   "cell_type": "code",
   "execution_count": 23,
   "id": "7b57d2aa",
   "metadata": {},
   "outputs": [],
   "source": [
    "# Use the binom.rvs() function to simulate 20 trials of 10 coin flips with a 35% chance of getting heads.\n",
    "draws = binom.rvs(n=10, p=0.35, size=20)"
   ]
  },
  {
   "cell_type": "code",
   "execution_count": 24,
   "id": "7215d685",
   "metadata": {},
   "outputs": [
    {
     "data": {
      "text/plain": [
       "array([4, 2, 3, 3, 3, 5, 2, 4, 4, 1, 4, 2, 1, 6, 6, 5, 3, 2, 4, 3])"
      ]
     },
     "execution_count": 24,
     "metadata": {},
     "output_type": "execute_result"
    }
   ],
   "source": [
    "draws"
   ]
  },
  {
   "cell_type": "markdown",
   "id": "922f6abf",
   "metadata": {},
   "source": [
    "## Predicting the probability of defects\n",
    "\n",
    "Any situation with exactly two possible outcomes can be modeled with binomial random variables. For example, you could model if someone likes or dislikes a product, or if they voted or not.\n",
    "\n",
    "Let's model whether or not a component from a supplier comes with a defect. From the thousands of components that we got from a supplier, we are going to take a sample of 50, selected randomly. The agreed and accepted defect rate is 2%."
   ]
  },
  {
   "cell_type": "markdown",
   "id": "4c0e0278",
   "metadata": {},
   "source": [
    "Recall that:\n",
    "\n",
    "* binom.pmf() calculates the probability of having exactly k heads out of n coin flips.\n",
    "* binom.cdf() calculates the probability of having k heads or less out of n coin flips.\n",
    "* binom.sf() calculates the probability of having more than k heads out of n coin flips."
   ]
  },
  {
   "cell_type": "code",
   "execution_count": 27,
   "id": "b79560b3",
   "metadata": {},
   "outputs": [],
   "source": [
    "# Probability of getting exactly 1 defective component\n",
    "prob_one_defect = binom.pmf(k=1, n=50, p=0.02)"
   ]
  },
  {
   "cell_type": "code",
   "execution_count": 28,
   "id": "6946f029",
   "metadata": {},
   "outputs": [
    {
     "data": {
      "text/plain": [
       "0.37160171437460954"
      ]
     },
     "execution_count": 28,
     "metadata": {},
     "output_type": "execute_result"
    }
   ],
   "source": [
    "prob_one_defect"
   ]
  },
  {
   "cell_type": "code",
   "execution_count": 29,
   "id": "af535015",
   "metadata": {},
   "outputs": [],
   "source": [
    "# Probability of not getting any defective components\n",
    "prob_no_defects = binom.pmf(k=0, n=50, p=0.02)"
   ]
  },
  {
   "cell_type": "code",
   "execution_count": 30,
   "id": "fb9ce2e6",
   "metadata": {},
   "outputs": [
    {
     "data": {
      "text/plain": [
       "0.36416968008711675"
      ]
     },
     "execution_count": 30,
     "metadata": {},
     "output_type": "execute_result"
    }
   ],
   "source": [
    "prob_no_defects"
   ]
  },
  {
   "cell_type": "code",
   "execution_count": 31,
   "id": "eee70a8c",
   "metadata": {},
   "outputs": [],
   "source": [
    "# Probability of getting 2 or less defective components\n",
    "prob_two_or_less_defects = binom.cdf(k=2, n=50, p=0.02)"
   ]
  },
  {
   "cell_type": "code",
   "execution_count": 32,
   "id": "d5afc0cb",
   "metadata": {},
   "outputs": [
    {
     "data": {
      "text/plain": [
       "0.9215722516490309"
      ]
     },
     "execution_count": 32,
     "metadata": {},
     "output_type": "execute_result"
    }
   ],
   "source": [
    "prob_two_or_less_defects"
   ]
  },
  {
   "cell_type": "markdown",
   "id": "80a22537",
   "metadata": {},
   "source": [
    "## Predicting employment status\n",
    "\n",
    "Consider a survey about employment that contains the question \"Are you employed?\" It is known that 65% of respondents will answer \"yes.\" Eight survey responses have been collected."
   ]
  },
  {
   "cell_type": "code",
   "execution_count": 38,
   "id": "2a02a014",
   "metadata": {},
   "outputs": [],
   "source": [
    "# Calculate the probability of getting exactly 5 yes responses\n",
    "employment_survey_5_yes = binom.pmf(k=5, p=0.65, n=8)"
   ]
  },
  {
   "cell_type": "code",
   "execution_count": 39,
   "id": "ef9f3f9d",
   "metadata": {},
   "outputs": [
    {
     "data": {
      "text/plain": [
       "0.2785857790625"
      ]
     },
     "execution_count": 39,
     "metadata": {},
     "output_type": "execute_result"
    }
   ],
   "source": [
    "employment_survey_5_yes"
   ]
  },
  {
   "cell_type": "code",
   "execution_count": 44,
   "id": "c998be03",
   "metadata": {},
   "outputs": [],
   "source": [
    "# Calculate the probability of getting 3 or less no responses\n",
    "employment_survey_3_or_less_no = 1 -binom.cdf(k=3, n=8, p=0.65)"
   ]
  },
  {
   "cell_type": "code",
   "execution_count": 45,
   "id": "5f92613d",
   "metadata": {},
   "outputs": [
    {
     "data": {
      "text/plain": [
       "0.8939090951171875"
      ]
     },
     "execution_count": 45,
     "metadata": {},
     "output_type": "execute_result"
    }
   ],
   "source": [
    "employment_survey_3_or_less_no"
   ]
  },
  {
   "cell_type": "code",
   "execution_count": 46,
   "id": "7a9a45cc",
   "metadata": {},
   "outputs": [],
   "source": [
    "# Calculate the probability of getting more than 3 yes responses\n",
    "prob_more_than_three_yes = binom.sf(k=3, n=8, p =0.65)"
   ]
  },
  {
   "cell_type": "code",
   "execution_count": 47,
   "id": "eeeb7e19",
   "metadata": {},
   "outputs": [
    {
     "data": {
      "text/plain": [
       "0.8939090951171875"
      ]
     },
     "execution_count": 47,
     "metadata": {},
     "output_type": "execute_result"
    }
   ],
   "source": [
    "prob_more_than_three_yes"
   ]
  },
  {
   "cell_type": "markdown",
   "id": "9ad0e3d7",
   "metadata": {},
   "source": [
    "## Predicting burglary conviction rate\n",
    "\n",
    "There are many situations that can be modeled with only two outcomes: success or failure. This exercise presents a situation that can be modeled with a binomial distribution and gives you the opportunity to calculate probabilities using binom.pmf(), binom.cdf(), and binom.sf()."
   ]
  },
  {
   "cell_type": "markdown",
   "id": "6e56e25c",
   "metadata": {},
   "source": [
    "Imagine that in your town there are many crimes, including burglaries, but only 20% of them get solved. Last week, there were 9 burglaries. Answer the following questions."
   ]
  },
  {
   "cell_type": "code",
   "execution_count": 48,
   "id": "278763dd",
   "metadata": {},
   "outputs": [],
   "source": [
    "# What is the probability of solving 4 burglaries?\n",
    "four_solved_burg = binom.pmf(k=4, n=9, p=0.2)"
   ]
  },
  {
   "cell_type": "code",
   "execution_count": 49,
   "id": "b36296b1",
   "metadata": {},
   "outputs": [
    {
     "data": {
      "text/plain": [
       "0.066060288"
      ]
     },
     "execution_count": 49,
     "metadata": {},
     "output_type": "execute_result"
    }
   ],
   "source": [
    "four_solved_burg"
   ]
  },
  {
   "cell_type": "code",
   "execution_count": 50,
   "id": "18836b4a",
   "metadata": {},
   "outputs": [],
   "source": [
    "# What is the probability of solving more than 3 burglaries?\n",
    "more_that_3_solved_burg = binom.sf(k=3, n=9, p=0.2)"
   ]
  },
  {
   "cell_type": "code",
   "execution_count": 51,
   "id": "09ed7ea5",
   "metadata": {},
   "outputs": [
    {
     "data": {
      "text/plain": [
       "0.08564172800000006"
      ]
     },
     "execution_count": 51,
     "metadata": {},
     "output_type": "execute_result"
    }
   ],
   "source": [
    "more_that_3_solved_burg"
   ]
  },
  {
   "cell_type": "code",
   "execution_count": 52,
   "id": "d893bc1c",
   "metadata": {},
   "outputs": [],
   "source": [
    "# What is the probability of solving 2 or 3 burglaries?\n",
    "two_or_three_solved_burg = binom.pmf(k=2, n=9, p=0.2) + binom.pmf(k=3, n=9, p=0.2)"
   ]
  },
  {
   "cell_type": "code",
   "execution_count": 53,
   "id": "638ee510",
   "metadata": {},
   "outputs": [
    {
     "data": {
      "text/plain": [
       "0.47815065600000023"
      ]
     },
     "execution_count": 53,
     "metadata": {},
     "output_type": "execute_result"
    }
   ],
   "source": [
    "two_or_three_solved_burg"
   ]
  },
  {
   "cell_type": "code",
   "execution_count": 54,
   "id": "b2aeae99",
   "metadata": {},
   "outputs": [],
   "source": [
    "# What is the probability of solving 1 or fewer or more than 7 burglaries?\n",
    "tail_probabilities = binom.cdf(k=1, n=9, p=0.2) + binom.sf(k=7, n=9, p=0.2)"
   ]
  },
  {
   "cell_type": "code",
   "execution_count": 55,
   "id": "27dd8d5f",
   "metadata": {},
   "outputs": [
    {
     "data": {
      "text/plain": [
       "0.4362265599999997"
      ]
     },
     "execution_count": 55,
     "metadata": {},
     "output_type": "execute_result"
    }
   ],
   "source": [
    "tail_probabilities"
   ]
  },
  {
   "cell_type": "code",
   "execution_count": 56,
   "id": "be131f5c",
   "metadata": {},
   "outputs": [
    {
     "data": {
      "text/plain": [
       "0.4362076159999997"
      ]
     },
     "execution_count": 56,
     "metadata": {},
     "output_type": "execute_result"
    }
   ],
   "source": [
    "binom.cdf(k=1, n=9, p=0.2)"
   ]
  },
  {
   "cell_type": "code",
   "execution_count": 58,
   "id": "dd56e542",
   "metadata": {},
   "outputs": [
    {
     "data": {
      "text/plain": [
       "1.894400000000001e-05"
      ]
     },
     "execution_count": 58,
     "metadata": {},
     "output_type": "execute_result"
    }
   ],
   "source": [
    "binom.sf(k=7, n=9, p=0.2)"
   ]
  },
  {
   "cell_type": "markdown",
   "id": "5684e66f",
   "metadata": {},
   "source": [
    "## Calculating the sample mean\n",
    "\n",
    "Simulation involves generating samples and then measuring. In this exercise, we'll generate some samples and calculate the sample mean with the describe() method. See what you observe about the sample mean as the number of samples increases."
   ]
  },
  {
   "cell_type": "code",
   "execution_count": 64,
   "id": "7f6af4bf",
   "metadata": {},
   "outputs": [],
   "source": [
    "# Sample mean from a generated sample of 100 fair coin flips\n",
    "sample_100_flips = binom.rvs(n=1, p=0.5, size=100)"
   ]
  },
  {
   "cell_type": "code",
   "execution_count": 65,
   "id": "66147ddc",
   "metadata": {},
   "outputs": [
    {
     "data": {
      "text/plain": [
       "array([0, 0, 1, 1, 0, 0, 1, 0, 0, 0, 1, 0, 1, 1, 0, 1, 0, 1, 1, 1, 0, 1,\n",
       "       0, 0, 0, 1, 1, 0, 1, 0, 1, 0, 1, 0, 1, 0, 0, 0, 1, 1, 0, 1, 1, 1,\n",
       "       1, 0, 0, 1, 1, 1, 0, 0, 1, 1, 1, 1, 1, 0, 0, 1, 1, 0, 0, 1, 0, 0,\n",
       "       1, 1, 1, 0, 1, 0, 0, 1, 1, 1, 1, 1, 0, 0, 0, 0, 1, 0, 1, 1, 1, 1,\n",
       "       1, 0, 0, 1, 0, 0, 1, 0, 1, 1, 1, 0])"
      ]
     },
     "execution_count": 65,
     "metadata": {},
     "output_type": "execute_result"
    }
   ],
   "source": [
    "sample_100_flips"
   ]
  },
  {
   "cell_type": "code",
   "execution_count": 75,
   "id": "daae9e46",
   "metadata": {},
   "outputs": [
    {
     "data": {
      "text/plain": [
       "(0.54, 0.24839999999999995, 0.49839743177508444)"
      ]
     },
     "execution_count": 75,
     "metadata": {},
     "output_type": "execute_result"
    }
   ],
   "source": [
    "sample_100_flips.mean(), sample_100_flips.var(), sample_100_flips.std()"
   ]
  },
  {
   "cell_type": "code",
   "execution_count": 70,
   "id": "1efbf86c",
   "metadata": {},
   "outputs": [
    {
     "data": {
      "text/plain": [
       "0.54"
      ]
     },
     "execution_count": 70,
     "metadata": {},
     "output_type": "execute_result"
    }
   ],
   "source": [
    "describe(sample_100_flips).mean"
   ]
  },
  {
   "cell_type": "code",
   "execution_count": 74,
   "id": "df70441b",
   "metadata": {},
   "outputs": [
    {
     "data": {
      "text/plain": [
       "0.25090909090909086"
      ]
     },
     "execution_count": 74,
     "metadata": {},
     "output_type": "execute_result"
    }
   ],
   "source": [
    "describe(sample_100_flips).variance"
   ]
  },
  {
   "cell_type": "code",
   "execution_count": 76,
   "id": "d9350654",
   "metadata": {},
   "outputs": [],
   "source": [
    "# Sample mean from a generated sample of 1,000 fair coin flips\n",
    "sample_1000_flips = binom.rvs(n=1, p=0.5, size=1000)"
   ]
  },
  {
   "cell_type": "code",
   "execution_count": 77,
   "id": "601c812d",
   "metadata": {},
   "outputs": [
    {
     "data": {
      "text/plain": [
       "(0.51, 0.24989999999999998, 0.4998999899979995)"
      ]
     },
     "execution_count": 77,
     "metadata": {},
     "output_type": "execute_result"
    }
   ],
   "source": [
    "sample_1000_flips.mean(), sample_1000_flips.var(), sample_1000_flips.std()"
   ]
  },
  {
   "cell_type": "code",
   "execution_count": 78,
   "id": "1ba5191f",
   "metadata": {},
   "outputs": [],
   "source": [
    "# Sample mean from a generated sample of 2,000 fair coin flips\n",
    "sample_2000_flips = binom.rvs(n=1, p=0.5, size=2000)"
   ]
  },
  {
   "cell_type": "code",
   "execution_count": 79,
   "id": "993d4205",
   "metadata": {},
   "outputs": [
    {
     "data": {
      "text/plain": [
       "(0.5005, 0.24999975, 0.4999997499999375)"
      ]
     },
     "execution_count": 79,
     "metadata": {},
     "output_type": "execute_result"
    }
   ],
   "source": [
    "sample_2000_flips.mean(), sample_2000_flips.var(), sample_2000_flips.std()"
   ]
  },
  {
   "cell_type": "markdown",
   "id": "94464683",
   "metadata": {},
   "source": [
    "## Checking the result\n",
    "\n",
    "Now try generating some samples and calculating the expected value and variance yourself, then using the method provided by binom to check if the sample values match the theoretical values."
   ]
  },
  {
   "cell_type": "markdown",
   "id": "a8f1ad7a",
   "metadata": {},
   "source": [
    "Var(X)=n×p×(1−p)"
   ]
  },
  {
   "cell_type": "code",
   "execution_count": 80,
   "id": "b822b83a",
   "metadata": {},
   "outputs": [
    {
     "name": "stdout",
     "output_type": "stream",
     "text": [
      "2.9725 2.022755127563782 3.0 2.0999999999999996 (array(3.), array(2.1))\n"
     ]
    }
   ],
   "source": [
    "sample = binom.rvs(n=10, p=0.3, size=2000)\n",
    "\n",
    "# Calculate the sample mean and variance from the sample variable\n",
    "sample_describe = describe(sample)\n",
    "\n",
    "# Calculate the sample mean using the values of n and p\n",
    "mean = 10*0.3\n",
    "\n",
    "# Calculate the sample variance using the value of 1-p\n",
    "variance = mean* (1-0.3)\n",
    "\n",
    "# Calculate the sample mean and variance for 10 coin flips with p=0.3\n",
    "binom_stats = binom.stats(n=10, p=0.3)\n",
    "\n",
    "print(sample_describe.mean, sample_describe.variance, mean, variance, binom_stats)"
   ]
  },
  {
   "cell_type": "markdown",
   "id": "99323bf6",
   "metadata": {},
   "source": [
    "## Calculating the mean and variance of a sample\n",
    "\n",
    "Now that you're familiar with working with coin flips using the binom object and calculating the mean and variance, let's try simulating a larger number of coin flips and calculating the sample mean and variance. Comparing this with the theoretical mean and variance will allow you to check if your simulated data follows the distribution you want."
   ]
  },
  {
   "cell_type": "code",
   "execution_count": 86,
   "id": "cd3e7c66",
   "metadata": {},
   "outputs": [],
   "source": [
    "# Inside a loop, create a sample variable with 10 trials of 10 coin flips with 25% probability of getting heads.\n",
    "averages = [describe(binom.rvs(n=10, p=0.25, size=10)).mean for _ in range(1500)]"
   ]
  },
  {
   "cell_type": "code",
   "execution_count": 88,
   "id": "2b6767c5",
   "metadata": {},
   "outputs": [],
   "source": [
    "variances = [describe(binom.rvs(n=10, p=0.25, size=10)).variance for _ in range(1500)]"
   ]
  },
  {
   "cell_type": "code",
   "execution_count": 90,
   "id": "d5a713be",
   "metadata": {},
   "outputs": [
    {
     "data": {
      "text/plain": [
       "(2.5014, 1.8791259259259259)"
      ]
     },
     "execution_count": 90,
     "metadata": {},
     "output_type": "execute_result"
    }
   ],
   "source": [
    "np.mean(averages), np.mean(variances)"
   ]
  },
  {
   "cell_type": "markdown",
   "id": "3409d965",
   "metadata": {},
   "source": [
    "Using the binom.stats() function, calculate the theoretical mean and variance using 10 coin flips and a 25% probability of getting heads and compare your results from the previous exercise to the expected values for the mean and variance."
   ]
  },
  {
   "cell_type": "code",
   "execution_count": 96,
   "id": "cd7ab99d",
   "metadata": {},
   "outputs": [
    {
     "data": {
      "text/plain": [
       "(array(2.5), array(1.875))"
      ]
     },
     "execution_count": 96,
     "metadata": {},
     "output_type": "execute_result"
    }
   ],
   "source": [
    "binom.stats(n=10, p=0.25)"
   ]
  },
  {
   "cell_type": "markdown",
   "id": "12586788",
   "metadata": {},
   "source": [
    "## Measuring a sample\n",
    "\n",
    "Let's work with a sample of coin flips to calculate some probabilities. You will calculate absolute and relative frequency and check the theoretical value from the distribution of the sample data.\n",
    "\n",
    "The array sample_of_two_coin_flips has 1,000 experiments, each consisting of two fair coin flips. For each experiment, we record the number of heads out of the two coin flips: 0, 1, or 2."
   ]
  },
  {
   "cell_type": "code",
   "execution_count": 137,
   "id": "9ca0d8d3",
   "metadata": {},
   "outputs": [],
   "source": [
    "sample_of_two_coin_flips = np.random.randint(3, size=1000)"
   ]
  },
  {
   "cell_type": "code",
   "execution_count": 117,
   "id": "f920ca28",
   "metadata": {},
   "outputs": [
    {
     "data": {
      "text/plain": [
       "numpy.ndarray"
      ]
     },
     "execution_count": 117,
     "metadata": {},
     "output_type": "execute_result"
    }
   ],
   "source": [
    "type(sample_of_two_coin_flips)"
   ]
  },
  {
   "cell_type": "code",
   "execution_count": 118,
   "id": "08797579",
   "metadata": {},
   "outputs": [
    {
     "data": {
      "image/png": "[encoded data removed]",
      "text/plain": [
       "<Figure size 432x288 with 1 Axes>"
      ]
     },
     "metadata": {
      "needs_background": "light"
     },
     "output_type": "display_data"
    }
   ],
   "source": [
    "plt.hist(sample_of_two_coin_flips); "
   ]
  },
  {
   "cell_type": "code",
   "execution_count": 120,
   "id": "cf480183",
   "metadata": {},
   "outputs": [],
   "source": [
    "# Count how many times you got 2 heads from the sample data\n",
    "count_2_heads = find_repeats(sample_of_two_coin_flips).counts[2]"
   ]
  },
  {
   "cell_type": "code",
   "execution_count": 121,
   "id": "a5f77517",
   "metadata": {},
   "outputs": [
    {
     "data": {
      "text/plain": [
       "345"
      ]
     },
     "execution_count": 121,
     "metadata": {},
     "output_type": "execute_result"
    }
   ],
   "source": [
    "count_2_heads"
   ]
  },
  {
   "cell_type": "code",
   "execution_count": 123,
   "id": "4c0b2b81",
   "metadata": {},
   "outputs": [
    {
     "data": {
      "text/plain": [
       "2    345\n",
       "0    332\n",
       "1    323\n",
       "dtype: int64"
      ]
     },
     "execution_count": 123,
     "metadata": {},
     "output_type": "execute_result"
    }
   ],
   "source": [
    "pd.Series(sample_of_two_coin_flips).value_counts()"
   ]
  },
  {
   "cell_type": "code",
   "execution_count": 124,
   "id": "67178316",
   "metadata": {},
   "outputs": [
    {
     "name": "stdout",
     "output_type": "stream",
     "text": [
      "0.345\n"
     ]
    }
   ],
   "source": [
    "# Divide the number of heads by the total number of draws\n",
    "prob_2_heads = count_2_heads / 1000\n",
    "# Display the result\n",
    "print(prob_2_heads)"
   ]
  },
  {
   "cell_type": "code",
   "execution_count": 126,
   "id": "8f3751b2",
   "metadata": {},
   "outputs": [
    {
     "name": "stdout",
     "output_type": "stream",
     "text": [
      "[0.332 0.323 0.345]\n"
     ]
    }
   ],
   "source": [
    "# Get the relative frequency from sample_of_two_coin_flips\n",
    "# Set numbins as 3\n",
    "# Extract frequency\n",
    "rel_freq = relfreq(sample_of_two_coin_flips, numbins=3).frequency\n",
    "print(rel_freq)"
   ]
  },
  {
   "cell_type": "code",
   "execution_count": 135,
   "id": "81774fc7",
   "metadata": {},
   "outputs": [],
   "source": [
    "# Calculate the probability of getting 0, 1, or 2 from a binomial distribution with n=2 and p=0.5.\n",
    "# Probability of getting 0, 1, or 2 from the distribution\n",
    "prob = binom.pmf([0, 1, 2], n=2, p=0.5)"
   ]
  },
  {
   "cell_type": "code",
   "execution_count": 133,
   "id": "bedeaf5f",
   "metadata": {},
   "outputs": [
    {
     "data": {
      "text/plain": [
       "array([0.25, 0.5 , 0.25])"
      ]
     },
     "execution_count": 133,
     "metadata": {},
     "output_type": "execute_result"
    }
   ],
   "source": [
    "prob"
   ]
  },
  {
   "cell_type": "markdown",
   "id": "6c16b987",
   "metadata": {},
   "source": [
    "## Joint probabilities"
   ]
  },
  {
   "cell_type": "code",
   "execution_count": null,
   "id": "91054ad4",
   "metadata": {},
   "outputs": [],
   "source": []
  }
 ],
 "metadata": {
  "kernelspec": {
   "display_name": "Python 3 (ipykernel)",
   "language": "python",
   "name": "python3"
  },
  "language_info": {
   "codemirror_mode": {
    "name": "ipython",
    "version": 3
   },
   "file_extension": ".py",
   "mimetype": "text/x-python",
   "name": "python",
   "nbconvert_exporter": "python",
   "pygments_lexer": "ipython3",
   "version": "3.9.12"
  }
 },
 "nbformat": 4,
 "nbformat_minor": 5
}
