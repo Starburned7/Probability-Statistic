{
 "cells": [
  {
   "cell_type": "markdown",
   "id": "45906025",
   "metadata": {},
   "source": [
    "## Flipping coins"
   ]
  },
  {
   "cell_type": "code",
   "execution_count": 20,
   "id": "e20d1227",
   "metadata": {},
   "outputs": [],
   "source": [
    "import pandas as pd\n",
    "import numpy as np\n",
    "from scipy.stats import bernoulli, binom"
   ]
  },
  {
   "cell_type": "code",
   "execution_count": 13,
   "id": "e7b21ae2",
   "metadata": {},
   "outputs": [],
   "source": [
    "# Set the random seed to reproduce the results\n",
    "np.random.seed(42)\n",
    "# Simulate one coin flip with 35% chance of getting heads\n",
    "coin_flip = bernoulli.rvs(p=0.35, size=1)"
   ]
  },
  {
   "cell_type": "code",
   "execution_count": 14,
   "id": "069f26fa",
   "metadata": {},
   "outputs": [
    {
     "data": {
      "text/plain": [
       "array([0])"
      ]
     },
     "execution_count": 14,
     "metadata": {},
     "output_type": "execute_result"
    }
   ],
   "source": [
    "coin_flip"
   ]
  },
  {
   "cell_type": "code",
   "execution_count": 15,
   "id": "60338d75",
   "metadata": {},
   "outputs": [],
   "source": [
    "# Simulate ten coin flips and get the number of heads\n",
    "np.random.seed(42)\n",
    "ten_coin_flips=bernoulli.rvs(p=0.35, size=10)"
   ]
  },
  {
   "cell_type": "code",
   "execution_count": 17,
   "id": "9b22caa6",
   "metadata": {},
   "outputs": [
    {
     "data": {
      "text/plain": [
       "array([0, 1, 1, 0, 0, 0, 0, 1, 0, 1])"
      ]
     },
     "execution_count": 17,
     "metadata": {},
     "output_type": "execute_result"
    }
   ],
   "source": [
    "ten_coin_flips"
   ]
  },
  {
   "cell_type": "code",
   "execution_count": 18,
   "id": "f737c8c8",
   "metadata": {},
   "outputs": [
    {
     "data": {
      "text/plain": [
       "4"
      ]
     },
     "execution_count": 18,
     "metadata": {},
     "output_type": "execute_result"
    }
   ],
   "source": [
    "ten_coin_flips.sum()"
   ]
  },
  {
   "cell_type": "markdown",
   "id": "3229bc06",
   "metadata": {},
   "source": [
    "## Using binom to flip even more coins\n",
    "\n",
    "Previously, you simulated 10 coin flips with a 35% chance of getting heads using bernoulli.rvs().\n",
    "\n",
    "This exercise loads the binom object from scipy.stats so you can use binom.rvs() to simulate 20 trials of 10 coin flips with a 35% chance of getting heads on each coin flip."
   ]
  },
  {
   "cell_type": "code",
   "execution_count": 23,
   "id": "1daf292d",
   "metadata": {},
   "outputs": [],
   "source": [
    "# Use the binom.rvs() function to simulate 20 trials of 10 coin flips with a 35% chance of getting heads.\n",
    "draws = binom.rvs(n=10, p=0.35, size=20)"
   ]
  },
  {
   "cell_type": "code",
   "execution_count": 24,
   "id": "91c69f1d",
   "metadata": {},
   "outputs": [
    {
     "data": {
      "text/plain": [
       "array([4, 2, 3, 3, 3, 5, 2, 4, 4, 1, 4, 2, 1, 6, 6, 5, 3, 2, 4, 3])"
      ]
     },
     "execution_count": 24,
     "metadata": {},
     "output_type": "execute_result"
    }
   ],
   "source": [
    "draws"
   ]
  },
  {
   "cell_type": "markdown",
   "id": "f21c25c0",
   "metadata": {},
   "source": [
    "## Predicting the probability of defects\n",
    "\n",
    "Any situation with exactly two possible outcomes can be modeled with binomial random variables. For example, you could model if someone likes or dislikes a product, or if they voted or not.\n",
    "\n",
    "Let's model whether or not a component from a supplier comes with a defect. From the thousands of components that we got from a supplier, we are going to take a sample of 50, selected randomly. The agreed and accepted defect rate is 2%."
   ]
  },
  {
   "cell_type": "markdown",
   "id": "1678a78b",
   "metadata": {},
   "source": [
    "Recall that:\n",
    "\n",
    "* binom.pmf() calculates the probability of having exactly k heads out of n coin flips.\n",
    "* binom.cdf() calculates the probability of having k heads or less out of n coin flips.\n",
    "* binom.sf() calculates the probability of having more than k heads out of n coin flips."
   ]
  },
  {
   "cell_type": "code",
   "execution_count": 27,
   "id": "58063c94",
   "metadata": {},
   "outputs": [],
   "source": [
    "# Probability of getting exactly 1 defective component\n",
    "prob_one_defect = binom.pmf(k=1, n=50, p=0.02)"
   ]
  },
  {
   "cell_type": "code",
   "execution_count": 28,
   "id": "7254761c",
   "metadata": {},
   "outputs": [
    {
     "data": {
      "text/plain": [
       "0.37160171437460954"
      ]
     },
     "execution_count": 28,
     "metadata": {},
     "output_type": "execute_result"
    }
   ],
   "source": [
    "prob_one_defect"
   ]
  },
  {
   "cell_type": "code",
   "execution_count": 29,
   "id": "76945353",
   "metadata": {},
   "outputs": [],
   "source": [
    "# Probability of not getting any defective components\n",
    "prob_no_defects = binom.pmf(k=0, n=50, p=0.02)"
   ]
  },
  {
   "cell_type": "code",
   "execution_count": 30,
   "id": "28b82f71",
   "metadata": {},
   "outputs": [
    {
     "data": {
      "text/plain": [
       "0.36416968008711675"
      ]
     },
     "execution_count": 30,
     "metadata": {},
     "output_type": "execute_result"
    }
   ],
   "source": [
    "prob_no_defects"
   ]
  },
  {
   "cell_type": "code",
   "execution_count": 31,
   "id": "e3c0ffe5",
   "metadata": {},
   "outputs": [],
   "source": [
    "# Probability of getting 2 or less defective components\n",
    "prob_two_or_less_defects = binom.cdf(k=2, n=50, p=0.02)"
   ]
  },
  {
   "cell_type": "code",
   "execution_count": 32,
   "id": "71b7caa9",
   "metadata": {},
   "outputs": [
    {
     "data": {
      "text/plain": [
       "0.9215722516490309"
      ]
     },
     "execution_count": 32,
     "metadata": {},
     "output_type": "execute_result"
    }
   ],
   "source": [
    "prob_two_or_less_defects"
   ]
  },
  {
   "cell_type": "markdown",
   "id": "e24f4cc0",
   "metadata": {},
   "source": [
    "## Predicting employment status\n",
    "\n",
    "Consider a survey about employment that contains the question \"Are you employed?\" It is known that 65% of respondents will answer \"yes.\" Eight survey responses have been collected."
   ]
  },
  {
   "cell_type": "code",
   "execution_count": 38,
   "id": "fca7d485",
   "metadata": {},
   "outputs": [],
   "source": [
    "# Calculate the probability of getting exactly 5 yes responses\n",
    "employment_survey_5_yes = binom.pmf(k=5, p=0.65, n=8)"
   ]
  },
  {
   "cell_type": "code",
   "execution_count": 39,
   "id": "fa875a7d",
   "metadata": {},
   "outputs": [
    {
     "data": {
      "text/plain": [
       "0.2785857790625"
      ]
     },
     "execution_count": 39,
     "metadata": {},
     "output_type": "execute_result"
    }
   ],
   "source": [
    "employment_survey_5_yes"
   ]
  },
  {
   "cell_type": "code",
   "execution_count": 44,
   "id": "cd342b22",
   "metadata": {},
   "outputs": [],
   "source": [
    "# Calculate the probability of getting 3 or less no responses\n",
    "employment_survey_3_or_less_no = 1 -binom.cdf(k=3, n=8, p=0.65)"
   ]
  },
  {
   "cell_type": "code",
   "execution_count": 45,
   "id": "75048b23",
   "metadata": {},
   "outputs": [
    {
     "data": {
      "text/plain": [
       "0.8939090951171875"
      ]
     },
     "execution_count": 45,
     "metadata": {},
     "output_type": "execute_result"
    }
   ],
   "source": [
    "employment_survey_3_or_less_no"
   ]
  },
  {
   "cell_type": "code",
   "execution_count": 46,
   "id": "04a5946d",
   "metadata": {},
   "outputs": [],
   "source": [
    "# Calculate the probability of getting more than 3 yes responses\n",
    "prob_more_than_three_yes = binom.sf(k=3, n=8, p =0.65)"
   ]
  },
  {
   "cell_type": "code",
   "execution_count": 47,
   "id": "47fee819",
   "metadata": {},
   "outputs": [
    {
     "data": {
      "text/plain": [
       "0.8939090951171875"
      ]
     },
     "execution_count": 47,
     "metadata": {},
     "output_type": "execute_result"
    }
   ],
   "source": [
    "prob_more_than_three_yes"
   ]
  },
  {
   "cell_type": "markdown",
   "id": "07635398",
   "metadata": {},
   "source": [
    "## Predicting burglary conviction rate\n",
    "\n",
    "There are many situations that can be modeled with only two outcomes: success or failure. This exercise presents a situation that can be modeled with a binomial distribution and gives you the opportunity to calculate probabilities using binom.pmf(), binom.cdf(), and binom.sf()."
   ]
  },
  {
   "cell_type": "markdown",
   "id": "73becb0b",
   "metadata": {},
   "source": [
    "Imagine that in your town there are many crimes, including burglaries, but only 20% of them get solved. Last week, there were 9 burglaries. Answer the following questions."
   ]
  },
  {
   "cell_type": "code",
   "execution_count": 48,
   "id": "b7b84ed3",
   "metadata": {},
   "outputs": [],
   "source": [
    "# What is the probability of solving 4 burglaries?\n",
    "four_solved_burg = binom.pmf(k=4, n=9, p=0.2)"
   ]
  },
  {
   "cell_type": "code",
   "execution_count": 49,
   "id": "bc00a498",
   "metadata": {},
   "outputs": [
    {
     "data": {
      "text/plain": [
       "0.066060288"
      ]
     },
     "execution_count": 49,
     "metadata": {},
     "output_type": "execute_result"
    }
   ],
   "source": [
    "four_solved_burg"
   ]
  },
  {
   "cell_type": "code",
   "execution_count": 50,
   "id": "dc79dbd9",
   "metadata": {},
   "outputs": [],
   "source": [
    "# What is the probability of solving more than 3 burglaries?\n",
    "more_that_3_solved_burg = binom.sf(k=3, n=9, p=0.2)"
   ]
  },
  {
   "cell_type": "code",
   "execution_count": 51,
   "id": "bd52775b",
   "metadata": {},
   "outputs": [
    {
     "data": {
      "text/plain": [
       "0.08564172800000006"
      ]
     },
     "execution_count": 51,
     "metadata": {},
     "output_type": "execute_result"
    }
   ],
   "source": [
    "more_that_3_solved_burg"
   ]
  },
  {
   "cell_type": "code",
   "execution_count": 52,
   "id": "029374d5",
   "metadata": {},
   "outputs": [],
   "source": [
    "# What is the probability of solving 2 or 3 burglaries?\n",
    "two_or_three_solved_burg = binom.pmf(k=2, n=9, p=0.2) + binom.pmf(k=3, n=9, p=0.2)"
   ]
  },
  {
   "cell_type": "code",
   "execution_count": 53,
   "id": "84a8d31e",
   "metadata": {},
   "outputs": [
    {
     "data": {
      "text/plain": [
       "0.47815065600000023"
      ]
     },
     "execution_count": 53,
     "metadata": {},
     "output_type": "execute_result"
    }
   ],
   "source": [
    "two_or_three_solved_burg"
   ]
  },
  {
   "cell_type": "code",
   "execution_count": 54,
   "id": "3a943d4b",
   "metadata": {},
   "outputs": [],
   "source": [
    "# What is the probability of solving 1 or fewer or more than 7 burglaries?\n",
    "tail_probabilities = binom.cdf(k=1, n=9, p=0.2) + binom.sf(k=7, n=9, p=0.2)"
   ]
  },
  {
   "cell_type": "code",
   "execution_count": 55,
   "id": "eb8e2364",
   "metadata": {},
   "outputs": [
    {
     "data": {
      "text/plain": [
       "0.4362265599999997"
      ]
     },
     "execution_count": 55,
     "metadata": {},
     "output_type": "execute_result"
    }
   ],
   "source": [
    "tail_probabilities"
   ]
  },
  {
   "cell_type": "code",
   "execution_count": 56,
   "id": "04c44c81",
   "metadata": {},
   "outputs": [
    {
     "data": {
      "text/plain": [
       "0.4362076159999997"
      ]
     },
     "execution_count": 56,
     "metadata": {},
     "output_type": "execute_result"
    }
   ],
   "source": [
    "binom.cdf(k=1, n=9, p=0.2)"
   ]
  },
  {
   "cell_type": "code",
   "execution_count": 58,
   "id": "551719c8",
   "metadata": {},
   "outputs": [
    {
     "data": {
      "text/plain": [
       "1.894400000000001e-05"
      ]
     },
     "execution_count": 58,
     "metadata": {},
     "output_type": "execute_result"
    }
   ],
   "source": [
    "binom.sf(k=7, n=9, p=0.2)"
   ]
  },
  {
   "cell_type": "code",
   "execution_count": null,
   "id": "4dbfe0cd",
   "metadata": {},
   "outputs": [],
   "source": []
  }
 ],
 "metadata": {
  "kernelspec": {
   "display_name": "Python 3 (ipykernel)",
   "language": "python",
   "name": "python3"
  },
  "language_info": {
   "codemirror_mode": {
    "name": "ipython",
    "version": 3
   },
   "file_extension": ".py",
   "mimetype": "text/x-python",
   "name": "python",
   "nbconvert_exporter": "python",
   "pygments_lexer": "ipython3",
   "version": "3.9.12"
  }
 },
 "nbformat": 4,
 "nbformat_minor": 5
}
