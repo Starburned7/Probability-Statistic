{
 "cells": [
  {
   "cell_type": "markdown",
   "id": "a1b23b9a",
   "metadata": {},
   "source": [
    "## Probability using Scipy"
   ]
  },
  {
   "cell_type": "code",
   "execution_count": 43,
   "id": "c58fdfa0",
   "metadata": {},
   "outputs": [],
   "source": [
    "import numpy as np\n",
    "import pandas as pd\n",
    "import matplotlib.pyplot as plt\n",
    "from scipy.stats import uniform, norm, binom, poisson, expon"
   ]
  },
  {
   "cell_type": "code",
   "execution_count": 3,
   "id": "9739a400",
   "metadata": {},
   "outputs": [],
   "source": [
    "# Minimal and maximum amount of waiting time\n",
    "min_time = 0\n",
    "max_time = 30"
   ]
  },
  {
   "cell_type": "code",
   "execution_count": 4,
   "id": "26db0d6a",
   "metadata": {},
   "outputs": [],
   "source": [
    "# Calculate probability of waiting less than 5 mins\n",
    "prob_less_than_5 = uniform.cdf(5,0,30)"
   ]
  },
  {
   "cell_type": "code",
   "execution_count": 7,
   "id": "ddc8e9c5",
   "metadata": {},
   "outputs": [],
   "source": [
    "# Calculate probability of waiting less than 5 mins\n",
    "prob_less_than_5 = uniform.cdf(5,min_time, max_time)"
   ]
  },
  {
   "cell_type": "code",
   "execution_count": 8,
   "id": "f916358e",
   "metadata": {},
   "outputs": [
    {
     "data": {
      "text/plain": [
       "0.16666666666666666"
      ]
     },
     "execution_count": 8,
     "metadata": {},
     "output_type": "execute_result"
    }
   ],
   "source": [
    "prob_less_than_5"
   ]
  },
  {
   "cell_type": "code",
   "execution_count": 9,
   "id": "99221484",
   "metadata": {},
   "outputs": [],
   "source": [
    "# Calculate probability of waiting more than 5 mins\n",
    "prob_greater_than_5 = 1 - uniform.cdf(5, 0, 30)"
   ]
  },
  {
   "cell_type": "code",
   "execution_count": 11,
   "id": "ee998b78",
   "metadata": {},
   "outputs": [],
   "source": [
    "# Calculate probability of waiting 10-20 mins\n",
    "prob_between_10_and_20 = uniform.cdf(20, 0, 30) - uniform.cdf(10, 0, 30)"
   ]
  },
  {
   "cell_type": "code",
   "execution_count": 12,
   "id": "0aa7c62d",
   "metadata": {},
   "outputs": [
    {
     "data": {
      "text/plain": [
       "0.3333333333333333"
      ]
     },
     "execution_count": 12,
     "metadata": {},
     "output_type": "execute_result"
    }
   ],
   "source": [
    "prob_between_10_and_20"
   ]
  },
  {
   "cell_type": "markdown",
   "id": "10b71728",
   "metadata": {},
   "source": [
    "Assume that Amir usually works on 3 deals per week, and overall, he wins 30% of deals he works on. Each deal has a binary outcome: it's either lost, or won, so you can model his sales deals with a binomial distribution. \n",
    "We will simulate a year's worth of Amir's deals so he can better understand his performance."
   ]
  },
  {
   "cell_type": "code",
   "execution_count": 35,
   "id": "8d6baf8f",
   "metadata": {},
   "outputs": [
    {
     "data": {
      "text/plain": [
       "array([0])"
      ]
     },
     "execution_count": 35,
     "metadata": {},
     "output_type": "execute_result"
    }
   ],
   "source": [
    "# Simulate a single deal\n",
    "np.random.seed(42)\n",
    "binom.rvs(1, 0.3, size=1)"
   ]
  },
  {
   "cell_type": "code",
   "execution_count": 36,
   "id": "2440ffac",
   "metadata": {},
   "outputs": [
    {
     "data": {
      "text/plain": [
       "array([1])"
      ]
     },
     "execution_count": 36,
     "metadata": {},
     "output_type": "execute_result"
    }
   ],
   "source": [
    "# Simulate 1 week of 3 deals\n",
    "np.random.seed(42)\n",
    "binom.rvs(3, 0.3, size=1)"
   ]
  },
  {
   "cell_type": "markdown",
   "id": "dd2f6b66",
   "metadata": {},
   "source": [
    "Assume that Amir usually works on 3 deals per week, and overall, he wins 30% of deals he works on. Each deal has a binary outcome: it's either lost, or won, so you can model his sales deals with a binomial distribution. \n",
    "We will simulate a year's worth of Amir's deals so he can better understand his performance."
   ]
  },
  {
   "cell_type": "code",
   "execution_count": 4,
   "id": "c823d9fb",
   "metadata": {},
   "outputs": [
    {
     "data": {
      "text/plain": [
       "array([0])"
      ]
     },
     "execution_count": 4,
     "metadata": {},
     "output_type": "execute_result"
    }
   ],
   "source": [
    "# Simulate a single deal\n",
    "np.random.seed(42)\n",
    "binom.rvs(1, 0.3, size=1)"
   ]
  },
  {
   "cell_type": "code",
   "execution_count": 5,
   "id": "18fe7020",
   "metadata": {},
   "outputs": [
    {
     "data": {
      "text/plain": [
       "array([1])"
      ]
     },
     "execution_count": 5,
     "metadata": {},
     "output_type": "execute_result"
    }
   ],
   "source": [
    "# Simulate 1 week of 3 deals\n",
    "np.random.seed(42)\n",
    "binom.rvs(3, 0.3, size=1)"
   ]
  },
  {
   "cell_type": "code",
   "execution_count": 6,
   "id": "0ce6055f",
   "metadata": {},
   "outputs": [],
   "source": [
    "# Simulate 52 weeks of 3 deals\n",
    "deals = binom.rvs(3, 0.3, size=52)"
   ]
  },
  {
   "cell_type": "code",
   "execution_count": 7,
   "id": "fc9bb72a",
   "metadata": {},
   "outputs": [
    {
     "data": {
      "text/plain": [
       "0.7884615384615384"
      ]
     },
     "execution_count": 7,
     "metadata": {},
     "output_type": "execute_result"
    }
   ],
   "source": [
    "# Print mean deals won per week\n",
    "deals.mean()"
   ]
  },
  {
   "cell_type": "code",
   "execution_count": 8,
   "id": "f0ecd002",
   "metadata": {},
   "outputs": [],
   "source": [
    "# Probability of closing 3 out of 3 deals\n",
    "prob_3 = binom.pmf(3,3, 0.3)"
   ]
  },
  {
   "cell_type": "code",
   "execution_count": 9,
   "id": "429f5e79",
   "metadata": {},
   "outputs": [
    {
     "data": {
      "text/plain": [
       "0.026999999999999996"
      ]
     },
     "execution_count": 9,
     "metadata": {},
     "output_type": "execute_result"
    }
   ],
   "source": [
    "prob_3"
   ]
  },
  {
   "cell_type": "code",
   "execution_count": 10,
   "id": "a1315eb8",
   "metadata": {},
   "outputs": [],
   "source": [
    "# Probability of closing <= 1 deal out of 3 deals\n",
    "prob_less_than_or_equal_1 = binom.cdf(1,3,0.3)"
   ]
  },
  {
   "cell_type": "code",
   "execution_count": 11,
   "id": "23b3d877",
   "metadata": {},
   "outputs": [
    {
     "data": {
      "text/plain": [
       "0.784"
      ]
     },
     "execution_count": 11,
     "metadata": {},
     "output_type": "execute_result"
    }
   ],
   "source": [
    "prob_less_than_or_equal_1"
   ]
  },
  {
   "cell_type": "code",
   "execution_count": 12,
   "id": "d4867277",
   "metadata": {},
   "outputs": [],
   "source": [
    "# Probability of closing > 1 deal out of 3 deals\n",
    "prob_greater_than_1 = 1 - binom.cdf(1,3,0.3)"
   ]
  },
  {
   "cell_type": "markdown",
   "id": "6bf305e3",
   "metadata": {},
   "source": [
    "Now Amir wants to know how many deals he can expect to close each week if his win rate changes. Luckily, you can use your binomial distribution knowledge to help him calculate the expected value in different situations. Recall from the video that the expected value of a binomial distribution can be calculated by \n",
    "n × p."
   ]
  },
  {
   "cell_type": "code",
   "execution_count": 13,
   "id": "26245e5f",
   "metadata": {},
   "outputs": [
    {
     "data": {
      "text/plain": [
       "0.8999999999999999"
      ]
     },
     "execution_count": 13,
     "metadata": {},
     "output_type": "execute_result"
    }
   ],
   "source": [
    "# Expected number won with 30% win rate\n",
    "won_30pct = 3 * 0.3\n",
    "won_30pct"
   ]
  },
  {
   "cell_type": "code",
   "execution_count": 14,
   "id": "8c9d2d5b",
   "metadata": {},
   "outputs": [
    {
     "data": {
      "text/plain": [
       "0.75"
      ]
     },
     "execution_count": 14,
     "metadata": {},
     "output_type": "execute_result"
    }
   ],
   "source": [
    "# Expected number won with 25% win rate\n",
    "won_25pct = 3 * 0.25\n",
    "won_25pct"
   ]
  },
  {
   "cell_type": "code",
   "execution_count": 15,
   "id": "b4e6e95a",
   "metadata": {},
   "outputs": [
    {
     "data": {
      "text/plain": [
       "1.0499999999999998"
      ]
     },
     "execution_count": 15,
     "metadata": {},
     "output_type": "execute_result"
    }
   ],
   "source": [
    "# Expected number won with 35% win rate\n",
    "won_35pct = 3 * 0.35\n",
    "won_35pct"
   ]
  },
  {
   "cell_type": "markdown",
   "id": "eccbcf6f",
   "metadata": {},
   "source": [
    "Since each deal Amir worked on (both won and lost) was different, each was worth a different amount of money. These values follow a normal distribution with a mean of 5000 dollars and a standard deviation of 2000 dollars. As part of his performance metrics, you want to calculate the probability of Amir closing a deal worth various amounts."
   ]
  },
  {
   "cell_type": "code",
   "execution_count": 16,
   "id": "bb8f642b",
   "metadata": {},
   "outputs": [
    {
     "data": {
      "text/plain": [
       "0.8943502263331446"
      ]
     },
     "execution_count": 16,
     "metadata": {},
     "output_type": "execute_result"
    }
   ],
   "source": [
    "# Probability of deal < 7500\n",
    "prob_less_7500 = norm.cdf(7500, 5000,2000)\n",
    "prob_less_7500"
   ]
  },
  {
   "cell_type": "code",
   "execution_count": 17,
   "id": "34c27d2a",
   "metadata": {},
   "outputs": [
    {
     "data": {
      "text/plain": [
       "0.9772498680518208"
      ]
     },
     "execution_count": 17,
     "metadata": {},
     "output_type": "execute_result"
    }
   ],
   "source": [
    "# Probability of deal > 1000\n",
    "prob_over_1000 = 1 - norm.cdf(1000, 5000, 2000)\n",
    "prob_over_1000"
   ]
  },
  {
   "cell_type": "code",
   "execution_count": 18,
   "id": "a38c0407",
   "metadata": {},
   "outputs": [
    {
     "data": {
      "text/plain": [
       "0.6826894921370859"
      ]
     },
     "execution_count": 18,
     "metadata": {},
     "output_type": "execute_result"
    }
   ],
   "source": [
    "# Probability of deal between 3000 and 7000\n",
    "prob_3000_to_7000 = norm.cdf(7000, 5000, 2000) - norm.cdf(3000, 5000, 2000)\n",
    "prob_3000_to_7000"
   ]
  },
  {
   "cell_type": "code",
   "execution_count": 19,
   "id": "fcf1f3ae",
   "metadata": {},
   "outputs": [
    {
     "data": {
      "text/plain": [
       "3651.0204996078364"
      ]
     },
     "execution_count": 19,
     "metadata": {},
     "output_type": "execute_result"
    }
   ],
   "source": [
    "# Calculate amount that 25% of deals will be less than\n",
    "pct_25 = norm.ppf(0.25, 5000, 2000)\n",
    "pct_25"
   ]
  },
  {
   "cell_type": "markdown",
   "id": "5c2be907",
   "metadata": {},
   "source": [
    "## Simulating sales under new market conditions\n",
    "\n",
    "The company's financial analyst is predicting that next quarter, the worth of each sale will increase by 20% and the volatility, or standard deviation, of each sale's worth will increase by 30%. To see what Amir's sales might look like next quarter under these new market conditions, you'll simulate new sales amounts using the normal distribution."
   ]
  },
  {
   "cell_type": "code",
   "execution_count": 20,
   "id": "b9b3eb01",
   "metadata": {},
   "outputs": [],
   "source": [
    "# Calculate new average amount\n",
    "new_mean = 5000 * 1.2"
   ]
  },
  {
   "cell_type": "code",
   "execution_count": 21,
   "id": "2039eb87",
   "metadata": {},
   "outputs": [],
   "source": [
    "# Calculate new standard deviation\n",
    "new_sd = 2000 * 1.3"
   ]
  },
  {
   "cell_type": "code",
   "execution_count": 22,
   "id": "92bbdd67",
   "metadata": {},
   "outputs": [],
   "source": [
    "# Simulate 36 new sales\n",
    "new_sales = norm.rvs(new_mean, new_sd, size=36)"
   ]
  },
  {
   "cell_type": "code",
   "execution_count": 25,
   "id": "783e96a9",
   "metadata": {},
   "outputs": [
    {
     "data": {
      "image/png": "[encoded data removed]",
      "text/plain": [
       "<Figure size 432x288 with 1 Axes>"
      ]
     },
     "metadata": {
      "needs_background": "light"
     },
     "output_type": "display_data"
    }
   ],
   "source": [
    "# Create histogram\n",
    "plt.hist(new_sales);"
   ]
  },
  {
   "cell_type": "markdown",
   "id": "64f921e5",
   "metadata": {},
   "source": [
    "## The CLT in action\n",
    "\n",
    "The central limit theorem states that a sampling distribution of a sample statistic approaches the normal distribution as you take more samples, no matter the original distribution being sampled from."
   ]
  },
  {
   "cell_type": "code",
   "execution_count": 28,
   "id": "367346dd",
   "metadata": {},
   "outputs": [],
   "source": [
    "d = {'product': ['A', 'B'], 'client': ['Current', 'New'], 'status': ['Won', 'Lost'], \n",
    "     'amount': [3300, 4500], 'num_users': [20,15]}"
   ]
  },
  {
   "cell_type": "code",
   "execution_count": 29,
   "id": "de9cfb45",
   "metadata": {},
   "outputs": [],
   "source": [
    "df = pd.DataFrame(d)"
   ]
  },
  {
   "cell_type": "code",
   "execution_count": 30,
   "id": "bdc90f55",
   "metadata": {},
   "outputs": [
    {
     "data": {
      "text/html": [
       "<div>\n",
       "<style scoped>\n",
       "    .dataframe tbody tr th:only-of-type {\n",
       "        vertical-align: middle;\n",
       "    }\n",
       "\n",
       "    .dataframe tbody tr th {\n",
       "        vertical-align: top;\n",
       "    }\n",
       "\n",
       "    .dataframe thead th {\n",
       "        text-align: right;\n",
       "    }\n",
       "</style>\n",
       "<table border=\"1\" class=\"dataframe\">\n",
       "  <thead>\n",
       "    <tr style=\"text-align: right;\">\n",
       "      <th></th>\n",
       "      <th>product</th>\n",
       "      <th>client</th>\n",
       "      <th>status</th>\n",
       "      <th>amount</th>\n",
       "      <th>num_users</th>\n",
       "    </tr>\n",
       "  </thead>\n",
       "  <tbody>\n",
       "    <tr>\n",
       "      <th>0</th>\n",
       "      <td>A</td>\n",
       "      <td>Current</td>\n",
       "      <td>Won</td>\n",
       "      <td>3300</td>\n",
       "      <td>20</td>\n",
       "    </tr>\n",
       "    <tr>\n",
       "      <th>1</th>\n",
       "      <td>B</td>\n",
       "      <td>New</td>\n",
       "      <td>Lost</td>\n",
       "      <td>4500</td>\n",
       "      <td>15</td>\n",
       "    </tr>\n",
       "  </tbody>\n",
       "</table>\n",
       "</div>"
      ],
      "text/plain": [
       "  product   client status  amount  num_users\n",
       "0       A  Current    Won    3300         20\n",
       "1       B      New   Lost    4500         15"
      ]
     },
     "execution_count": 30,
     "metadata": {},
     "output_type": "execute_result"
    }
   ],
   "source": [
    "df"
   ]
  },
  {
   "cell_type": "code",
   "execution_count": 31,
   "id": "a68161ae",
   "metadata": {},
   "outputs": [
    {
     "data": {
      "image/png": "[encoded data removed]",
      "text/plain": [
       "<Figure size 432x288 with 1 Axes>"
      ]
     },
     "metadata": {
      "needs_background": "light"
     },
     "output_type": "display_data"
    }
   ],
   "source": [
    "# Set seed to 104\n",
    "np.random.seed(104)\n",
    "\n",
    "sample_means = []\n",
    "# Loop 100 times\n",
    "for i in range(100):\n",
    "  # Take sample of 20 num_users\n",
    "  samp_20 = df['num_users'].sample(20, replace=True)\n",
    "  # Calculate mean of samp_20\n",
    "  samp_20_mean = np.mean(samp_20)\n",
    "  # Append samp_20_mean to sample_means\n",
    "  sample_means.append(samp_20_mean)\n",
    "  \n",
    "# Convert to Series and plot histogram\n",
    "sample_means_series = pd.Series(sample_means)\n",
    "sample_means_series.hist()\n",
    "# Show plot\n",
    "plt.show()"
   ]
  },
  {
   "cell_type": "markdown",
   "id": "226e9aed",
   "metadata": {},
   "source": [
    "## Poisson distribution\n",
    "Tracking lead responses\n",
    "\n",
    "Your company uses sales software to keep track of new sales leads. It organizes them into a queue so that anyone can follow up on one when they have a bit of free time. Since the number of lead responses is a countable outcome over a period of time, this scenario corresponds to a Poisson distribution. On average, Amir responds to 4 leads each day. In this exercise, you'll calculate probabilities of Amir responding to different numbers of leads."
   ]
  },
  {
   "cell_type": "code",
   "execution_count": 34,
   "id": "8a4c3056",
   "metadata": {},
   "outputs": [],
   "source": [
    "# Probability of 5 responses\n",
    "prob_5 = poisson.pmf(5,4)"
   ]
  },
  {
   "cell_type": "code",
   "execution_count": 36,
   "id": "218dfc1a",
   "metadata": {},
   "outputs": [
    {
     "data": {
      "text/plain": [
       "0.1562934518505317"
      ]
     },
     "execution_count": 36,
     "metadata": {},
     "output_type": "execute_result"
    }
   ],
   "source": [
    "prob_5"
   ]
  },
  {
   "cell_type": "markdown",
   "id": "e93be143",
   "metadata": {},
   "source": [
    "Amir's coworker responds to an average of 5.5 leads per day. What is the probability that she answers 5 leads in a day?"
   ]
  },
  {
   "cell_type": "code",
   "execution_count": 35,
   "id": "d6c6ec34",
   "metadata": {},
   "outputs": [],
   "source": [
    "# Probability of 5 responses\n",
    "prob_coworker = poisson.pmf(5, 5.5)"
   ]
  },
  {
   "cell_type": "code",
   "execution_count": 37,
   "id": "edeb7455",
   "metadata": {},
   "outputs": [
    {
     "data": {
      "text/plain": [
       "0.17140068409793663"
      ]
     },
     "execution_count": 37,
     "metadata": {},
     "output_type": "execute_result"
    }
   ],
   "source": [
    "prob_coworker"
   ]
  },
  {
   "cell_type": "markdown",
   "id": "cc3315e5",
   "metadata": {},
   "source": [
    "What's the probability that Amir responds to 2 or fewer leads in a day?"
   ]
  },
  {
   "cell_type": "code",
   "execution_count": 39,
   "id": "91173b35",
   "metadata": {},
   "outputs": [],
   "source": [
    "# Probability of 2 or fewer responses\n",
    "prob_2_or_less = poisson.cdf(2, 4)"
   ]
  },
  {
   "cell_type": "code",
   "execution_count": 40,
   "id": "f4a34fb8",
   "metadata": {},
   "outputs": [
    {
     "data": {
      "text/plain": [
       "0.23810330555354436"
      ]
     },
     "execution_count": 40,
     "metadata": {},
     "output_type": "execute_result"
    }
   ],
   "source": [
    "prob_2_or_less"
   ]
  },
  {
   "cell_type": "markdown",
   "id": "6f10a20f",
   "metadata": {},
   "source": [
    "What's the probability that Amir responds to more than 10 leads in a day?"
   ]
  },
  {
   "cell_type": "code",
   "execution_count": 41,
   "id": "de46d98a",
   "metadata": {},
   "outputs": [],
   "source": [
    "# Probability of > 10 responses\n",
    "prob_over_10 = 1- poisson.cdf(10,4)"
   ]
  },
  {
   "cell_type": "code",
   "execution_count": 42,
   "id": "9ed666ca",
   "metadata": {},
   "outputs": [
    {
     "data": {
      "text/plain": [
       "0.0028397661205137315"
      ]
     },
     "execution_count": 42,
     "metadata": {},
     "output_type": "execute_result"
    }
   ],
   "source": [
    "prob_over_10"
   ]
  },
  {
   "cell_type": "markdown",
   "id": "ee78f011",
   "metadata": {},
   "source": [
    "## Exponential distribution\n",
    "Modeling time between leads\n",
    "\n",
    "To further evaluate Amir's performance, you want to know how much time it takes him to respond to a lead after he opens it. On average, it takes 2.5 hours for him to respond. In this exercise, you'll calculate probabilities of different amounts of time passing between Amir receiving a lead and sending a response."
   ]
  },
  {
   "cell_type": "code",
   "execution_count": 49,
   "id": "1b2bcc5c",
   "metadata": {},
   "outputs": [
    {
     "data": {
      "text/plain": [
       "0.3296799539643607"
      ]
     },
     "execution_count": 49,
     "metadata": {},
     "output_type": "execute_result"
    }
   ],
   "source": [
    "# Print probability response takes < 1 hour\n",
    "expon.cdf(1, scale=2.5)"
   ]
  },
  {
   "cell_type": "code",
   "execution_count": 50,
   "id": "8fbd2fbc",
   "metadata": {},
   "outputs": [
    {
     "data": {
      "text/plain": [
       "0.20189651799465536"
      ]
     },
     "execution_count": 50,
     "metadata": {},
     "output_type": "execute_result"
    }
   ],
   "source": [
    "# Print probability response takes > 4 hours\n",
    "1 -expon.cdf(4, scale=2.5)"
   ]
  },
  {
   "cell_type": "code",
   "execution_count": 62,
   "id": "5f97e10f",
   "metadata": {},
   "outputs": [
    {
     "data": {
      "text/plain": [
       "0.09929769391754684"
      ]
     },
     "execution_count": 62,
     "metadata": {},
     "output_type": "execute_result"
    }
   ],
   "source": [
    "# Print probability response takes 3-4 hours\n",
    "expon.cdf(4, scale=2.5) - expon.cdf(3, scale=2.5)"
   ]
  },
  {
   "cell_type": "code",
   "execution_count": 55,
   "id": "2ad9b675",
   "metadata": {},
   "outputs": [
    {
     "data": {
      "text/plain": [
       "0.02732372244729253"
      ]
     },
     "execution_count": 55,
     "metadata": {},
     "output_type": "execute_result"
    }
   ],
   "source": [
    "# Print probability response takes > 9 hours\n",
    "1 -expon.cdf(9, scale=2.5)"
   ]
  },
  {
   "cell_type": "code",
   "execution_count": 61,
   "id": "08d584a3",
   "metadata": {},
   "outputs": [
    {
     "data": {
      "text/plain": [
       "0.14813475220501937"
      ]
     },
     "execution_count": 61,
     "metadata": {},
     "output_type": "execute_result"
    }
   ],
   "source": [
    "# Print probability response takes 2-3 hours\n",
    "expon.cdf(3, scale=2.5) - expon.cdf(2, scale=2.5)"
   ]
  },
  {
   "cell_type": "code",
   "execution_count": 58,
   "id": "088d9eff",
   "metadata": {},
   "outputs": [
    {
     "data": {
      "text/plain": [
       "0.5506710358827784"
      ]
     },
     "execution_count": 58,
     "metadata": {},
     "output_type": "execute_result"
    }
   ],
   "source": [
    "# Print probability response takes < 2 hours\n",
    "expon.cdf(2, scale=2.5)"
   ]
  },
  {
   "cell_type": "code",
   "execution_count": 60,
   "id": "e95a57aa",
   "metadata": {},
   "outputs": [
    {
     "data": {
      "text/plain": [
       "0.6988057880877978"
      ]
     },
     "execution_count": 60,
     "metadata": {},
     "output_type": "execute_result"
    }
   ],
   "source": [
    "# Print probability response takes < 3 hours\n",
    "expon.cdf(3, scale=2.5)"
   ]
  },
  {
   "cell_type": "code",
   "execution_count": null,
   "id": "3cd5ae7d",
   "metadata": {},
   "outputs": [],
   "source": []
  }
 ],
 "metadata": {
  "kernelspec": {
   "display_name": "Python 3 (ipykernel)",
   "language": "python",
   "name": "python3"
  },
  "language_info": {
   "codemirror_mode": {
    "name": "ipython",
    "version": 3
   },
   "file_extension": ".py",
   "mimetype": "text/x-python",
   "name": "python",
   "nbconvert_exporter": "python",
   "pygments_lexer": "ipython3",
   "version": "3.9.12"
  }
 },
 "nbformat": 4,
 "nbformat_minor": 5
}
