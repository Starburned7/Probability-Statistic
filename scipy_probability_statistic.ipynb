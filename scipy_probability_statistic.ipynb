{
 "cells": [
  {
   "cell_type": "markdown",
   "id": "6b7b979d",
   "metadata": {},
   "source": [
    "## Probability using Scipy"
   ]
  },
  {
   "cell_type": "code",
   "execution_count": null,
   "id": "26d0ee7e",
   "metadata": {},
   "outputs": [],
   "source": [
    "import numpy as np\n",
    "import pandas as pd\n",
    "from scipy.stats import uniform, norm"
   ]
  },
  {
   "cell_type": "code",
   "execution_count": 6,
   "id": "853c0d43",
   "metadata": {},
   "outputs": [],
   "source": [
    "# Minimal and maximum amount of waiting time\n",
    "min_time = 0\n",
    "max_time = 30"
   ]
  },
  {
   "cell_type": "code",
   "execution_count": 4,
   "id": "57b93e7b",
   "metadata": {},
   "outputs": [],
   "source": [
    "# Calculate probability of waiting less than 5 mins\n",
    "prob_less_than_5 = uniform.cdf(5,0,30)"
   ]
  },
  {
   "cell_type": "code",
   "execution_count": 7,
   "id": "0980dcc9",
   "metadata": {},
   "outputs": [],
   "source": [
    "# Calculate probability of waiting less than 5 mins\n",
    "prob_less_than_5 = uniform.cdf(5,min_time, max_time)"
   ]
  },
  {
   "cell_type": "code",
   "execution_count": 8,
   "id": "429150fe",
   "metadata": {},
   "outputs": [
    {
     "data": {
      "text/plain": [
       "0.16666666666666666"
      ]
     },
     "execution_count": 8,
     "metadata": {},
     "output_type": "execute_result"
    }
   ],
   "source": [
    "prob_less_than_5"
   ]
  },
  {
   "cell_type": "code",
   "execution_count": 9,
   "id": "e1f21a69",
   "metadata": {},
   "outputs": [],
   "source": [
    "# Calculate probability of waiting more than 5 mins\n",
    "prob_greater_than_5 = 1 - uniform.cdf(5, 0, 30)"
   ]
  },
  {
   "cell_type": "code",
   "execution_count": 11,
   "id": "91732919",
   "metadata": {},
   "outputs": [],
   "source": [
    "# Calculate probability of waiting 10-20 mins\n",
    "prob_between_10_and_20 = uniform.cdf(20, 0, 30) - uniform.cdf(10, 0, 30)"
   ]
  },
  {
   "cell_type": "code",
   "execution_count": 12,
   "id": "543e5f6e",
   "metadata": {},
   "outputs": [
    {
     "data": {
      "text/plain": [
       "0.3333333333333333"
      ]
     },
     "execution_count": 12,
     "metadata": {},
     "output_type": "execute_result"
    }
   ],
   "source": [
    "prob_between_10_and_20"
   ]
  },
  {
   "cell_type": "code",
   "execution_count": null,
   "id": "634ba038",
   "metadata": {},
   "outputs": [],
   "source": []
  }
 ],
 "metadata": {
  "kernelspec": {
   "display_name": "Python 3 (ipykernel)",
   "language": "python",
   "name": "python3"
  },
  "language_info": {
   "codemirror_mode": {
    "name": "ipython",
    "version": 3
   },
   "file_extension": ".py",
   "mimetype": "text/x-python",
   "name": "python",
   "nbconvert_exporter": "python",
   "pygments_lexer": "ipython3",
   "version": "3.9.12"
  }
 },
 "nbformat": 4,
 "nbformat_minor": 5
}
