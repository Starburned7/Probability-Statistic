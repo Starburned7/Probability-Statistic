{
 "cells": [
  {
   "cell_type": "markdown",
   "id": "a1b23b9a",
   "metadata": {},
   "source": [
    "## Probability using Scipy"
   ]
  },
  {
   "cell_type": "code",
   "execution_count": 24,
   "id": "c58fdfa0",
   "metadata": {},
   "outputs": [],
   "source": [
    "import numpy as np\n",
    "import pandas as pd\n",
    "import matplotlib.pyplot as plt\n",
    "from scipy.stats import uniform, norm, binom"
   ]
  },
  {
   "cell_type": "code",
   "execution_count": 3,
   "id": "9739a400",
   "metadata": {},
   "outputs": [],
   "source": [
    "# Minimal and maximum amount of waiting time\n",
    "min_time = 0\n",
    "max_time = 30"
   ]
  },
  {
   "cell_type": "code",
   "execution_count": 4,
   "id": "26db0d6a",
   "metadata": {},
   "outputs": [],
   "source": [
    "# Calculate probability of waiting less than 5 mins\n",
    "prob_less_than_5 = uniform.cdf(5,0,30)"
   ]
  },
  {
   "cell_type": "code",
   "execution_count": 7,
   "id": "ddc8e9c5",
   "metadata": {},
   "outputs": [],
   "source": [
    "# Calculate probability of waiting less than 5 mins\n",
    "prob_less_than_5 = uniform.cdf(5,min_time, max_time)"
   ]
  },
  {
   "cell_type": "code",
   "execution_count": 8,
   "id": "f916358e",
   "metadata": {},
   "outputs": [
    {
     "data": {
      "text/plain": [
       "0.16666666666666666"
      ]
     },
     "execution_count": 8,
     "metadata": {},
     "output_type": "execute_result"
    }
   ],
   "source": [
    "prob_less_than_5"
   ]
  },
  {
   "cell_type": "code",
   "execution_count": 9,
   "id": "99221484",
   "metadata": {},
   "outputs": [],
   "source": [
    "# Calculate probability of waiting more than 5 mins\n",
    "prob_greater_than_5 = 1 - uniform.cdf(5, 0, 30)"
   ]
  },
  {
   "cell_type": "code",
   "execution_count": 11,
   "id": "ee998b78",
   "metadata": {},
   "outputs": [],
   "source": [
    "# Calculate probability of waiting 10-20 mins\n",
    "prob_between_10_and_20 = uniform.cdf(20, 0, 30) - uniform.cdf(10, 0, 30)"
   ]
  },
  {
   "cell_type": "code",
   "execution_count": 12,
   "id": "0aa7c62d",
   "metadata": {},
   "outputs": [
    {
     "data": {
      "text/plain": [
       "0.3333333333333333"
      ]
     },
     "execution_count": 12,
     "metadata": {},
     "output_type": "execute_result"
    }
   ],
   "source": [
    "prob_between_10_and_20"
   ]
  },
  {
   "cell_type": "markdown",
   "id": "10b71728",
   "metadata": {},
   "source": [
    "Assume that Amir usually works on 3 deals per week, and overall, he wins 30% of deals he works on. Each deal has a binary outcome: it's either lost, or won, so you can model his sales deals with a binomial distribution. \n",
    "We will simulate a year's worth of Amir's deals so he can better understand his performance."
   ]
  },
  {
   "cell_type": "code",
   "execution_count": 35,
   "id": "8d6baf8f",
   "metadata": {},
   "outputs": [
    {
     "data": {
      "text/plain": [
       "array([0])"
      ]
     },
     "execution_count": 35,
     "metadata": {},
     "output_type": "execute_result"
    }
   ],
   "source": [
    "# Simulate a single deal\n",
    "np.random.seed(42)\n",
    "binom.rvs(1, 0.3, size=1)"
   ]
  },
  {
   "cell_type": "code",
   "execution_count": 36,
   "id": "2440ffac",
   "metadata": {},
   "outputs": [
    {
     "data": {
      "text/plain": [
       "array([1])"
      ]
     },
     "execution_count": 36,
     "metadata": {},
     "output_type": "execute_result"
    }
   ],
   "source": [
    "# Simulate 1 week of 3 deals\n",
    "np.random.seed(42)\n",
    "binom.rvs(3, 0.3, size=1)"
   ]
  },
  {
   "cell_type": "markdown",
   "id": "4a2c85fe",
   "metadata": {},
   "source": [
    "Assume that Amir usually works on 3 deals per week, and overall, he wins 30% of deals he works on. Each deal has a binary outcome: it's either lost, or won, so you can model his sales deals with a binomial distribution. \n",
    "We will simulate a year's worth of Amir's deals so he can better understand his performance."
   ]
  },
  {
   "cell_type": "code",
   "execution_count": 4,
   "id": "16594879",
   "metadata": {},
   "outputs": [
    {
     "data": {
      "text/plain": [
       "array([0])"
      ]
     },
     "execution_count": 4,
     "metadata": {},
     "output_type": "execute_result"
    }
   ],
   "source": [
    "# Simulate a single deal\n",
    "np.random.seed(42)\n",
    "binom.rvs(1, 0.3, size=1)"
   ]
  },
  {
   "cell_type": "code",
   "execution_count": 5,
   "id": "32800f1d",
   "metadata": {},
   "outputs": [
    {
     "data": {
      "text/plain": [
       "array([1])"
      ]
     },
     "execution_count": 5,
     "metadata": {},
     "output_type": "execute_result"
    }
   ],
   "source": [
    "# Simulate 1 week of 3 deals\n",
    "np.random.seed(42)\n",
    "binom.rvs(3, 0.3, size=1)"
   ]
  },
  {
   "cell_type": "code",
   "execution_count": 6,
   "id": "f5d6a246",
   "metadata": {},
   "outputs": [],
   "source": [
    "# Simulate 52 weeks of 3 deals\n",
    "deals = binom.rvs(3, 0.3, size=52)"
   ]
  },
  {
   "cell_type": "code",
   "execution_count": 7,
   "id": "8e152aa7",
   "metadata": {},
   "outputs": [
    {
     "data": {
      "text/plain": [
       "0.7884615384615384"
      ]
     },
     "execution_count": 7,
     "metadata": {},
     "output_type": "execute_result"
    }
   ],
   "source": [
    "# Print mean deals won per week\n",
    "deals.mean()"
   ]
  },
  {
   "cell_type": "code",
   "execution_count": 8,
   "id": "f6a857cb",
   "metadata": {},
   "outputs": [],
   "source": [
    "# Probability of closing 3 out of 3 deals\n",
    "prob_3 = binom.pmf(3,3, 0.3)"
   ]
  },
  {
   "cell_type": "code",
   "execution_count": 9,
   "id": "dd7538a7",
   "metadata": {},
   "outputs": [
    {
     "data": {
      "text/plain": [
       "0.026999999999999996"
      ]
     },
     "execution_count": 9,
     "metadata": {},
     "output_type": "execute_result"
    }
   ],
   "source": [
    "prob_3"
   ]
  },
  {
   "cell_type": "code",
   "execution_count": 10,
   "id": "9a44a4f5",
   "metadata": {},
   "outputs": [],
   "source": [
    "# Probability of closing <= 1 deal out of 3 deals\n",
    "prob_less_than_or_equal_1 = binom.cdf(1,3,0.3)"
   ]
  },
  {
   "cell_type": "code",
   "execution_count": 11,
   "id": "ba82d393",
   "metadata": {},
   "outputs": [
    {
     "data": {
      "text/plain": [
       "0.784"
      ]
     },
     "execution_count": 11,
     "metadata": {},
     "output_type": "execute_result"
    }
   ],
   "source": [
    "prob_less_than_or_equal_1"
   ]
  },
  {
   "cell_type": "code",
   "execution_count": 12,
   "id": "362156a8",
   "metadata": {},
   "outputs": [],
   "source": [
    "# Probability of closing > 1 deal out of 3 deals\n",
    "prob_greater_than_1 = 1 - binom.cdf(1,3,0.3)"
   ]
  },
  {
   "cell_type": "markdown",
   "id": "c854c9a3",
   "metadata": {},
   "source": [
    "Now Amir wants to know how many deals he can expect to close each week if his win rate changes. Luckily, you can use your binomial distribution knowledge to help him calculate the expected value in different situations. Recall from the video that the expected value of a binomial distribution can be calculated by \n",
    "n × p."
   ]
  },
  {
   "cell_type": "code",
   "execution_count": 13,
   "id": "397339bb",
   "metadata": {},
   "outputs": [
    {
     "data": {
      "text/plain": [
       "0.8999999999999999"
      ]
     },
     "execution_count": 13,
     "metadata": {},
     "output_type": "execute_result"
    }
   ],
   "source": [
    "# Expected number won with 30% win rate\n",
    "won_30pct = 3 * 0.3\n",
    "won_30pct"
   ]
  },
  {
   "cell_type": "code",
   "execution_count": 14,
   "id": "1f2a35d5",
   "metadata": {},
   "outputs": [
    {
     "data": {
      "text/plain": [
       "0.75"
      ]
     },
     "execution_count": 14,
     "metadata": {},
     "output_type": "execute_result"
    }
   ],
   "source": [
    "# Expected number won with 25% win rate\n",
    "won_25pct = 3 * 0.25\n",
    "won_25pct"
   ]
  },
  {
   "cell_type": "code",
   "execution_count": 15,
   "id": "8dab1d53",
   "metadata": {},
   "outputs": [
    {
     "data": {
      "text/plain": [
       "1.0499999999999998"
      ]
     },
     "execution_count": 15,
     "metadata": {},
     "output_type": "execute_result"
    }
   ],
   "source": [
    "# Expected number won with 35% win rate\n",
    "won_35pct = 3 * 0.35\n",
    "won_35pct"
   ]
  },
  {
   "cell_type": "markdown",
   "id": "714214ca",
   "metadata": {},
   "source": [
    "Since each deal Amir worked on (both won and lost) was different, each was worth a different amount of money. These values follow a normal distribution with a mean of 5000 dollars and a standard deviation of 2000 dollars. As part of his performance metrics, you want to calculate the probability of Amir closing a deal worth various amounts."
   ]
  },
  {
   "cell_type": "code",
   "execution_count": 16,
   "id": "07830494",
   "metadata": {},
   "outputs": [
    {
     "data": {
      "text/plain": [
       "0.8943502263331446"
      ]
     },
     "execution_count": 16,
     "metadata": {},
     "output_type": "execute_result"
    }
   ],
   "source": [
    "# Probability of deal < 7500\n",
    "prob_less_7500 = norm.cdf(7500, 5000,2000)\n",
    "prob_less_7500"
   ]
  },
  {
   "cell_type": "code",
   "execution_count": 17,
   "id": "29b2ec03",
   "metadata": {},
   "outputs": [
    {
     "data": {
      "text/plain": [
       "0.9772498680518208"
      ]
     },
     "execution_count": 17,
     "metadata": {},
     "output_type": "execute_result"
    }
   ],
   "source": [
    "# Probability of deal > 1000\n",
    "prob_over_1000 = 1 - norm.cdf(1000, 5000, 2000)\n",
    "prob_over_1000"
   ]
  },
  {
   "cell_type": "code",
   "execution_count": 18,
   "id": "7902d8d6",
   "metadata": {},
   "outputs": [
    {
     "data": {
      "text/plain": [
       "0.6826894921370859"
      ]
     },
     "execution_count": 18,
     "metadata": {},
     "output_type": "execute_result"
    }
   ],
   "source": [
    "# Probability of deal between 3000 and 7000\n",
    "prob_3000_to_7000 = norm.cdf(7000, 5000, 2000) - norm.cdf(3000, 5000, 2000)\n",
    "prob_3000_to_7000"
   ]
  },
  {
   "cell_type": "code",
   "execution_count": 19,
   "id": "429fd367",
   "metadata": {},
   "outputs": [
    {
     "data": {
      "text/plain": [
       "3651.0204996078364"
      ]
     },
     "execution_count": 19,
     "metadata": {},
     "output_type": "execute_result"
    }
   ],
   "source": [
    "# Calculate amount that 25% of deals will be less than\n",
    "pct_25 = norm.ppf(0.25, 5000, 2000)\n",
    "pct_25"
   ]
  },
  {
   "cell_type": "markdown",
   "id": "6a6c71ea",
   "metadata": {},
   "source": [
    "## Simulating sales under new market conditions\n",
    "\n",
    "The company's financial analyst is predicting that next quarter, the worth of each sale will increase by 20% and the volatility, or standard deviation, of each sale's worth will increase by 30%. To see what Amir's sales might look like next quarter under these new market conditions, you'll simulate new sales amounts using the normal distribution."
   ]
  },
  {
   "cell_type": "code",
   "execution_count": 20,
   "id": "20db5828",
   "metadata": {},
   "outputs": [],
   "source": [
    "# Calculate new average amount\n",
    "new_mean = 5000 * 1.2"
   ]
  },
  {
   "cell_type": "code",
   "execution_count": 21,
   "id": "491b8446",
   "metadata": {},
   "outputs": [],
   "source": [
    "# Calculate new standard deviation\n",
    "new_sd = 2000 * 1.3"
   ]
  },
  {
   "cell_type": "code",
   "execution_count": 22,
   "id": "cef9d2b1",
   "metadata": {},
   "outputs": [],
   "source": [
    "# Simulate 36 new sales\n",
    "new_sales = norm.rvs(new_mean, new_sd, size=36)"
   ]
  },
  {
   "cell_type": "code",
   "execution_count": 25,
   "id": "68d0a138",
   "metadata": {},
   "outputs": [
    {
     "data": {
      "image/png": "[encoded data removed]",
      "text/plain": [
       "<Figure size 432x288 with 1 Axes>"
      ]
     },
     "metadata": {
      "needs_background": "light"
     },
     "output_type": "display_data"
    }
   ],
   "source": [
    "# Create histogram\n",
    "plt.hist(new_sales);"
   ]
  },
  {
   "cell_type": "code",
   "execution_count": null,
   "id": "16876bea",
   "metadata": {},
   "outputs": [],
   "source": []
  }
 ],
 "metadata": {
  "kernelspec": {
   "display_name": "Python 3 (ipykernel)",
   "language": "python",
   "name": "python3"
  },
  "language_info": {
   "codemirror_mode": {
    "name": "ipython",
    "version": 3
   },
   "file_extension": ".py",
   "mimetype": "text/x-python",
   "name": "python",
   "nbconvert_exporter": "python",
   "pygments_lexer": "ipython3",
   "version": "3.9.12"
  }
 },
 "nbformat": 4,
 "nbformat_minor": 5
}
