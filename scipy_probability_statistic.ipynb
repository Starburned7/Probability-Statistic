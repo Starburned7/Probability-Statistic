{
 "cells": [
  {
   "cell_type": "markdown",
   "id": "a1b23b9a",
   "metadata": {},
   "source": [
    "## Probability using Scipy"
   ]
  },
  {
   "cell_type": "code",
   "execution_count": 2,
   "id": "c58fdfa0",
   "metadata": {},
   "outputs": [],
   "source": [
    "import numpy as np\n",
    "import pandas as pd\n",
    "from scipy.stats import uniform, norm, binom"
   ]
  },
  {
   "cell_type": "code",
   "execution_count": 3,
   "id": "9739a400",
   "metadata": {},
   "outputs": [],
   "source": [
    "# Minimal and maximum amount of waiting time\n",
    "min_time = 0\n",
    "max_time = 30"
   ]
  },
  {
   "cell_type": "code",
   "execution_count": 4,
   "id": "26db0d6a",
   "metadata": {},
   "outputs": [],
   "source": [
    "# Calculate probability of waiting less than 5 mins\n",
    "prob_less_than_5 = uniform.cdf(5,0,30)"
   ]
  },
  {
   "cell_type": "code",
   "execution_count": 7,
   "id": "ddc8e9c5",
   "metadata": {},
   "outputs": [],
   "source": [
    "# Calculate probability of waiting less than 5 mins\n",
    "prob_less_than_5 = uniform.cdf(5,min_time, max_time)"
   ]
  },
  {
   "cell_type": "code",
   "execution_count": 8,
   "id": "f916358e",
   "metadata": {},
   "outputs": [
    {
     "data": {
      "text/plain": [
       "0.16666666666666666"
      ]
     },
     "execution_count": 8,
     "metadata": {},
     "output_type": "execute_result"
    }
   ],
   "source": [
    "prob_less_than_5"
   ]
  },
  {
   "cell_type": "code",
   "execution_count": 9,
   "id": "99221484",
   "metadata": {},
   "outputs": [],
   "source": [
    "# Calculate probability of waiting more than 5 mins\n",
    "prob_greater_than_5 = 1 - uniform.cdf(5, 0, 30)"
   ]
  },
  {
   "cell_type": "code",
   "execution_count": 11,
   "id": "ee998b78",
   "metadata": {},
   "outputs": [],
   "source": [
    "# Calculate probability of waiting 10-20 mins\n",
    "prob_between_10_and_20 = uniform.cdf(20, 0, 30) - uniform.cdf(10, 0, 30)"
   ]
  },
  {
   "cell_type": "code",
   "execution_count": 12,
   "id": "0aa7c62d",
   "metadata": {},
   "outputs": [
    {
     "data": {
      "text/plain": [
       "0.3333333333333333"
      ]
     },
     "execution_count": 12,
     "metadata": {},
     "output_type": "execute_result"
    }
   ],
   "source": [
    "prob_between_10_and_20"
   ]
  },
  {
   "cell_type": "markdown",
   "id": "10b71728",
   "metadata": {},
   "source": [
    "Assume that Amir usually works on 3 deals per week, and overall, he wins 30% of deals he works on. Each deal has a binary outcome: it's either lost, or won, so you can model his sales deals with a binomial distribution. \n",
    "We will simulate a year's worth of Amir's deals so he can better understand his performance."
   ]
  },
  {
   "cell_type": "code",
   "execution_count": 35,
   "id": "8d6baf8f",
   "metadata": {},
   "outputs": [
    {
     "data": {
      "text/plain": [
       "array([0])"
      ]
     },
     "execution_count": 35,
     "metadata": {},
     "output_type": "execute_result"
    }
   ],
   "source": [
    "# Simulate a single deal\n",
    "np.random.seed(42)\n",
    "binom.rvs(1, 0.3, size=1)"
   ]
  },
  {
   "cell_type": "code",
   "execution_count": 36,
   "id": "2440ffac",
   "metadata": {},
   "outputs": [
    {
     "data": {
      "text/plain": [
       "array([1])"
      ]
     },
     "execution_count": 36,
     "metadata": {},
     "output_type": "execute_result"
    }
   ],
   "source": [
    "# Simulate 1 week of 3 deals\n",
    "np.random.seed(42)\n",
    "binom.rvs(3, 0.3, size=1)"
   ]
  },
  {
   "cell_type": "markdown",
   "id": "8a830233",
   "metadata": {},
   "source": [
    "Assume that Amir usually works on 3 deals per week, and overall, he wins 30% of deals he works on. Each deal has a binary outcome: it's either lost, or won, so you can model his sales deals with a binomial distribution. \n",
    "We will simulate a year's worth of Amir's deals so he can better understand his performance."
   ]
  },
  {
   "cell_type": "code",
   "execution_count": 4,
   "id": "5a10dd13",
   "metadata": {},
   "outputs": [
    {
     "data": {
      "text/plain": [
       "array([0])"
      ]
     },
     "execution_count": 4,
     "metadata": {},
     "output_type": "execute_result"
    }
   ],
   "source": [
    "# Simulate a single deal\n",
    "np.random.seed(42)\n",
    "binom.rvs(1, 0.3, size=1)"
   ]
  },
  {
   "cell_type": "code",
   "execution_count": 5,
   "id": "330adba4",
   "metadata": {},
   "outputs": [
    {
     "data": {
      "text/plain": [
       "array([1])"
      ]
     },
     "execution_count": 5,
     "metadata": {},
     "output_type": "execute_result"
    }
   ],
   "source": [
    "# Simulate 1 week of 3 deals\n",
    "np.random.seed(42)\n",
    "binom.rvs(3, 0.3, size=1)"
   ]
  },
  {
   "cell_type": "code",
   "execution_count": null,
   "id": "a186bfa3",
   "metadata": {},
   "outputs": [],
   "source": []
  }
 ],
 "metadata": {
  "kernelspec": {
   "display_name": "Python 3 (ipykernel)",
   "language": "python",
   "name": "python3"
  },
  "language_info": {
   "codemirror_mode": {
    "name": "ipython",
    "version": 3
   },
   "file_extension": ".py",
   "mimetype": "text/x-python",
   "name": "python",
   "nbconvert_exporter": "python",
   "pygments_lexer": "ipython3",
   "version": "3.9.12"
  }
 },
 "nbformat": 4,
 "nbformat_minor": 5
}
