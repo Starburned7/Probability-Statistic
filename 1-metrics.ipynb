{
 "cells": [
  {
   "cell_type": "markdown",
   "id": "3b9f90c3",
   "metadata": {},
   "source": [
    "# Statistic measures and metrics high-level review"
   ]
  },
  {
   "cell_type": "code",
   "execution_count": 10,
   "id": "33f93515",
   "metadata": {},
   "outputs": [],
   "source": [
    "import pandas as pd\n",
    "import numpy as np\n",
    "import seaborn as sns"
   ]
  },
  {
   "cell_type": "code",
   "execution_count": 2,
   "id": "43ff5ca7",
   "metadata": {},
   "outputs": [],
   "source": [
    "df = pd.read_csv('age_children_income_1000.csv')"
   ]
  },
  {
   "cell_type": "markdown",
   "id": "cad0921b",
   "metadata": {},
   "source": [
    "## EDA"
   ]
  },
  {
   "cell_type": "code",
   "execution_count": 3,
   "id": "6804eeac",
   "metadata": {},
   "outputs": [
    {
     "data": {
      "text/html": [
       "<div>\n",
       "<style scoped>\n",
       "    .dataframe tbody tr th:only-of-type {\n",
       "        vertical-align: middle;\n",
       "    }\n",
       "\n",
       "    .dataframe tbody tr th {\n",
       "        vertical-align: top;\n",
       "    }\n",
       "\n",
       "    .dataframe thead th {\n",
       "        text-align: right;\n",
       "    }\n",
       "</style>\n",
       "<table border=\"1\" class=\"dataframe\">\n",
       "  <thead>\n",
       "    <tr style=\"text-align: right;\">\n",
       "      <th></th>\n",
       "      <th>age</th>\n",
       "      <th>number_of_children</th>\n",
       "      <th>income</th>\n",
       "    </tr>\n",
       "  </thead>\n",
       "  <tbody>\n",
       "    <tr>\n",
       "      <th>0</th>\n",
       "      <td>42.772420</td>\n",
       "      <td>0</td>\n",
       "      <td>34396.537188</td>\n",
       "    </tr>\n",
       "    <tr>\n",
       "      <th>1</th>\n",
       "      <td>29.561090</td>\n",
       "      <td>0</td>\n",
       "      <td>183350.052521</td>\n",
       "    </tr>\n",
       "    <tr>\n",
       "      <th>2</th>\n",
       "      <td>54.380735</td>\n",
       "      <td>0</td>\n",
       "      <td>53689.856555</td>\n",
       "    </tr>\n",
       "    <tr>\n",
       "      <th>3</th>\n",
       "      <td>42.551689</td>\n",
       "      <td>0</td>\n",
       "      <td>109080.913926</td>\n",
       "    </tr>\n",
       "    <tr>\n",
       "      <th>4</th>\n",
       "      <td>38.713080</td>\n",
       "      <td>0</td>\n",
       "      <td>153612.343419</td>\n",
       "    </tr>\n",
       "  </tbody>\n",
       "</table>\n",
       "</div>"
      ],
      "text/plain": [
       "         age  number_of_children         income\n",
       "0  42.772420                   0   34396.537188\n",
       "1  29.561090                   0  183350.052521\n",
       "2  54.380735                   0   53689.856555\n",
       "3  42.551689                   0  109080.913926\n",
       "4  38.713080                   0  153612.343419"
      ]
     },
     "execution_count": 3,
     "metadata": {},
     "output_type": "execute_result"
    }
   ],
   "source": [
    "df.head()"
   ]
  },
  {
   "cell_type": "code",
   "execution_count": 4,
   "id": "4cbf5443",
   "metadata": {},
   "outputs": [
    {
     "data": {
      "text/plain": [
       "0    658\n",
       "1    226\n",
       "2     94\n",
       "3     20\n",
       "5      1\n",
       "4      1\n",
       "Name: number_of_children, dtype: int64"
      ]
     },
     "execution_count": 4,
     "metadata": {},
     "output_type": "execute_result"
    }
   ],
   "source": [
    "df['number_of_children'].value_counts()"
   ]
  },
  {
   "cell_type": "code",
   "execution_count": 5,
   "id": "5e1a3b3a",
   "metadata": {},
   "outputs": [
    {
     "data": {
      "text/plain": [
       "0    0.658\n",
       "1    0.226\n",
       "2    0.094\n",
       "3    0.020\n",
       "5    0.001\n",
       "4    0.001\n",
       "Name: number_of_children, dtype: float64"
      ]
     },
     "execution_count": 5,
     "metadata": {},
     "output_type": "execute_result"
    }
   ],
   "source": [
    "df['number_of_children'].value_counts(normalize=True)"
   ]
  },
  {
   "cell_type": "code",
   "execution_count": 9,
   "id": "161e7d70",
   "metadata": {},
   "outputs": [
    {
     "data": {
      "image/png": "[encoded data removed]",
      "text/plain": [
       "<Figure size 432x288 with 1 Axes>"
      ]
     },
     "metadata": {
      "needs_background": "light"
     },
     "output_type": "display_data"
    }
   ],
   "source": [
    "# histogram\n",
    "df['number_of_children'].hist();"
   ]
  },
  {
   "cell_type": "code",
   "execution_count": 13,
   "id": "decb5dc8",
   "metadata": {},
   "outputs": [
    {
     "data": {
      "image/png": "[encoded data removed]",
      "text/plain": [
       "<Figure size 432x288 with 1 Axes>"
      ]
     },
     "metadata": {
      "needs_background": "light"
     },
     "output_type": "display_data"
    }
   ],
   "source": [
    "sns.histplot(df['number_of_children']);"
   ]
  },
  {
   "cell_type": "code",
   "execution_count": 24,
   "id": "48bb3c1d",
   "metadata": {},
   "outputs": [
    {
     "data": {
      "image/png": "[encoded data removed]",
      "text/plain": [
       "<Figure size 432x288 with 1 Axes>"
      ]
     },
     "metadata": {
      "needs_background": "light"
     },
     "output_type": "display_data"
    }
   ],
   "source": [
    "sns.histplot(df['number_of_children'],stat='probability');"
   ]
  },
  {
   "cell_type": "code",
   "execution_count": 17,
   "id": "454cfe8f",
   "metadata": {},
   "outputs": [
    {
     "data": {
      "image/png": "[encoded data removed]",
      "text/plain": [
       "<Figure size 432x288 with 1 Axes>"
      ]
     },
     "metadata": {
      "needs_background": "light"
     },
     "output_type": "display_data"
    }
   ],
   "source": [
    "df['age'].hist();"
   ]
  },
  {
   "cell_type": "code",
   "execution_count": 18,
   "id": "6be3162d",
   "metadata": {},
   "outputs": [
    {
     "data": {
      "image/png": "[encoded data removed]",
      "text/plain": [
       "<Figure size 432x288 with 1 Axes>"
      ]
     },
     "metadata": {
      "needs_background": "light"
     },
     "output_type": "display_data"
    }
   ],
   "source": [
    "sns.histplot(df['age']);"
   ]
  },
  {
   "cell_type": "code",
   "execution_count": 19,
   "id": "99da673c",
   "metadata": {},
   "outputs": [
    {
     "data": {
      "image/png": "[encoded data removed]",
      "text/plain": [
       "<Figure size 432x288 with 1 Axes>"
      ]
     },
     "metadata": {
      "needs_background": "light"
     },
     "output_type": "display_data"
    }
   ],
   "source": [
    "sns.histplot(df['age'], stat='probability');"
   ]
  },
  {
   "cell_type": "code",
   "execution_count": 23,
   "id": "5ed6b5e2",
   "metadata": {},
   "outputs": [
    {
     "data": {
      "image/png": "[encoded data removed]",
      "text/plain": [
       "<Figure size 432x288 with 1 Axes>"
      ]
     },
     "metadata": {
      "needs_background": "light"
     },
     "output_type": "display_data"
    }
   ],
   "source": [
    "sns.histplot(df['age'], stat='percent');"
   ]
  },
  {
   "cell_type": "code",
   "execution_count": 25,
   "id": "83492140",
   "metadata": {},
   "outputs": [],
   "source": [
    "# adding new column for age bins. 10 bins to rank people's age\n",
    "df['age_bin'] = pd.cut(df['age'],10)"
   ]
  },
  {
   "cell_type": "code",
   "execution_count": 26,
   "id": "c7d20b2f",
   "metadata": {},
   "outputs": [
    {
     "data": {
      "text/html": [
       "<div>\n",
       "<style scoped>\n",
       "    .dataframe tbody tr th:only-of-type {\n",
       "        vertical-align: middle;\n",
       "    }\n",
       "\n",
       "    .dataframe tbody tr th {\n",
       "        vertical-align: top;\n",
       "    }\n",
       "\n",
       "    .dataframe thead th {\n",
       "        text-align: right;\n",
       "    }\n",
       "</style>\n",
       "<table border=\"1\" class=\"dataframe\">\n",
       "  <thead>\n",
       "    <tr style=\"text-align: right;\">\n",
       "      <th></th>\n",
       "      <th>age</th>\n",
       "      <th>number_of_children</th>\n",
       "      <th>income</th>\n",
       "      <th>age_bin</th>\n",
       "    </tr>\n",
       "  </thead>\n",
       "  <tbody>\n",
       "    <tr>\n",
       "      <th>0</th>\n",
       "      <td>42.772420</td>\n",
       "      <td>0</td>\n",
       "      <td>34396.537188</td>\n",
       "      <td>(40.743, 45.401]</td>\n",
       "    </tr>\n",
       "    <tr>\n",
       "      <th>1</th>\n",
       "      <td>29.561090</td>\n",
       "      <td>0</td>\n",
       "      <td>183350.052521</td>\n",
       "      <td>(26.766, 31.425]</td>\n",
       "    </tr>\n",
       "    <tr>\n",
       "      <th>2</th>\n",
       "      <td>54.380735</td>\n",
       "      <td>0</td>\n",
       "      <td>53689.856555</td>\n",
       "      <td>(50.06, 54.719]</td>\n",
       "    </tr>\n",
       "    <tr>\n",
       "      <th>3</th>\n",
       "      <td>42.551689</td>\n",
       "      <td>0</td>\n",
       "      <td>109080.913926</td>\n",
       "      <td>(40.743, 45.401]</td>\n",
       "    </tr>\n",
       "    <tr>\n",
       "      <th>4</th>\n",
       "      <td>38.713080</td>\n",
       "      <td>0</td>\n",
       "      <td>153612.343419</td>\n",
       "      <td>(36.084, 40.743]</td>\n",
       "    </tr>\n",
       "  </tbody>\n",
       "</table>\n",
       "</div>"
      ],
      "text/plain": [
       "         age  number_of_children         income           age_bin\n",
       "0  42.772420                   0   34396.537188  (40.743, 45.401]\n",
       "1  29.561090                   0  183350.052521  (26.766, 31.425]\n",
       "2  54.380735                   0   53689.856555   (50.06, 54.719]\n",
       "3  42.551689                   0  109080.913926  (40.743, 45.401]\n",
       "4  38.713080                   0  153612.343419  (36.084, 40.743]"
      ]
     },
     "execution_count": 26,
     "metadata": {},
     "output_type": "execute_result"
    }
   ],
   "source": [
    "df.head()"
   ]
  },
  {
   "cell_type": "code",
   "execution_count": 27,
   "id": "e8cbcd8c",
   "metadata": {},
   "outputs": [
    {
     "data": {
      "text/plain": [
       "age_bin\n",
       "(17.402, 22.107]     49\n",
       "(22.107, 26.766]    124\n",
       "(26.766, 31.425]    140\n",
       "(31.425, 36.084]    134\n",
       "(36.084, 40.743]    131\n",
       "(40.743, 45.401]    141\n",
       "(45.401, 50.06]     101\n",
       "(50.06, 54.719]     121\n",
       "(54.719, 59.378]     50\n",
       "(59.378, 64.037]      9\n",
       "Name: age, dtype: int64"
      ]
     },
     "execution_count": 27,
     "metadata": {},
     "output_type": "execute_result"
    }
   ],
   "source": [
    "df.groupby('age_bin')['age'].count()"
   ]
  },
  {
   "cell_type": "code",
   "execution_count": 28,
   "id": "0cbfcdba",
   "metadata": {},
   "outputs": [
    {
     "data": {
      "text/plain": [
       "0.483"
      ]
     },
     "execution_count": 28,
     "metadata": {},
     "output_type": "execute_result"
    }
   ],
   "source": [
    "df['number_of_children'].mean()"
   ]
  },
  {
   "cell_type": "code",
   "execution_count": 40,
   "id": "81df52a9",
   "metadata": {},
   "outputs": [
    {
     "data": {
      "text/plain": [
       "0    658\n",
       "1    226\n",
       "2     94\n",
       "3     20\n",
       "5      1\n",
       "4      1\n",
       "Name: number_of_children, dtype: int64"
      ]
     },
     "execution_count": 40,
     "metadata": {},
     "output_type": "execute_result"
    }
   ],
   "source": [
    "df['number_of_children'].value_counts()"
   ]
  },
  {
   "cell_type": "code",
   "execution_count": 41,
   "id": "7a101f29",
   "metadata": {},
   "outputs": [
    {
     "data": {
      "text/plain": [
       "0    0\n",
       "dtype: int64"
      ]
     },
     "execution_count": 41,
     "metadata": {},
     "output_type": "execute_result"
    }
   ],
   "source": [
    "# most common value for number of children. Top1. \n",
    "df['number_of_children'].mode()"
   ]
  },
  {
   "cell_type": "code",
   "execution_count": 29,
   "id": "ea872cd6",
   "metadata": {},
   "outputs": [
    {
     "data": {
      "text/plain": [
       "38.31925590719966"
      ]
     },
     "execution_count": 29,
     "metadata": {},
     "output_type": "execute_result"
    }
   ],
   "source": [
    "df['age'].mean()"
   ]
  },
  {
   "cell_type": "code",
   "execution_count": 31,
   "id": "386b41f6",
   "metadata": {},
   "outputs": [
    {
     "data": {
      "text/plain": [
       "129415.74637843431"
      ]
     },
     "execution_count": 31,
     "metadata": {},
     "output_type": "execute_result"
    }
   ],
   "source": [
    "df['income'].mean()"
   ]
  },
  {
   "cell_type": "code",
   "execution_count": 34,
   "id": "52696d26",
   "metadata": {},
   "outputs": [
    {
     "data": {
      "text/plain": [
       "114586.57093898312"
      ]
     },
     "execution_count": 34,
     "metadata": {},
     "output_type": "execute_result"
    }
   ],
   "source": [
    "df['income'].median()"
   ]
  },
  {
   "cell_type": "code",
   "execution_count": 38,
   "id": "1e9a2cd9",
   "metadata": {},
   "outputs": [
    {
     "data": {
      "text/plain": [
       "mean      129415.746378\n",
       "median    114586.570939\n",
       "Name: income, dtype: float64"
      ]
     },
     "execution_count": 38,
     "metadata": {},
     "output_type": "execute_result"
    }
   ],
   "source": [
    "df['income'].agg(['mean','median'])"
   ]
  },
  {
   "cell_type": "code",
   "execution_count": 39,
   "id": "c975be37",
   "metadata": {},
   "outputs": [
    {
     "data": {
      "image/png": "[encoded data removed]",
      "text/plain": [
       "<Figure size 432x288 with 1 Axes>"
      ]
     },
     "metadata": {
      "needs_background": "light"
     },
     "output_type": "display_data"
    }
   ],
   "source": [
    "df['income'].hist();"
   ]
  },
  {
   "cell_type": "code",
   "execution_count": 42,
   "id": "36a65764",
   "metadata": {},
   "outputs": [
    {
     "data": {
      "text/plain": [
       "114586.57093898312"
      ]
     },
     "execution_count": 42,
     "metadata": {},
     "output_type": "execute_result"
    }
   ],
   "source": [
    "df['income'].quantile(0.5)"
   ]
  },
  {
   "cell_type": "code",
   "execution_count": 43,
   "id": "17ba4f65",
   "metadata": {},
   "outputs": [
    {
     "data": {
      "text/plain": [
       "0    0.639\n",
       "1    0.257\n",
       "2    0.936\n",
       "3    0.634\n",
       "4    0.521\n",
       "Name: age, dtype: float64"
      ]
     },
     "execution_count": 43,
     "metadata": {},
     "output_type": "execute_result"
    }
   ],
   "source": [
    "df['age'].rank(pct=True).head()"
   ]
  },
  {
   "cell_type": "code",
   "execution_count": 44,
   "id": "fffad992",
   "metadata": {},
   "outputs": [],
   "source": [
    "df['pct_age'] = df['age'].rank(pct=True)"
   ]
  },
  {
   "cell_type": "code",
   "execution_count": 45,
   "id": "6bd33c9d",
   "metadata": {},
   "outputs": [
    {
     "data": {
      "text/html": [
       "<div>\n",
       "<style scoped>\n",
       "    .dataframe tbody tr th:only-of-type {\n",
       "        vertical-align: middle;\n",
       "    }\n",
       "\n",
       "    .dataframe tbody tr th {\n",
       "        vertical-align: top;\n",
       "    }\n",
       "\n",
       "    .dataframe thead th {\n",
       "        text-align: right;\n",
       "    }\n",
       "</style>\n",
       "<table border=\"1\" class=\"dataframe\">\n",
       "  <thead>\n",
       "    <tr style=\"text-align: right;\">\n",
       "      <th></th>\n",
       "      <th>age</th>\n",
       "      <th>number_of_children</th>\n",
       "      <th>income</th>\n",
       "      <th>age_bin</th>\n",
       "      <th>pct_age</th>\n",
       "    </tr>\n",
       "  </thead>\n",
       "  <tbody>\n",
       "    <tr>\n",
       "      <th>0</th>\n",
       "      <td>42.772420</td>\n",
       "      <td>0</td>\n",
       "      <td>34396.537188</td>\n",
       "      <td>(40.743, 45.401]</td>\n",
       "      <td>0.639</td>\n",
       "    </tr>\n",
       "    <tr>\n",
       "      <th>1</th>\n",
       "      <td>29.561090</td>\n",
       "      <td>0</td>\n",
       "      <td>183350.052521</td>\n",
       "      <td>(26.766, 31.425]</td>\n",
       "      <td>0.257</td>\n",
       "    </tr>\n",
       "    <tr>\n",
       "      <th>2</th>\n",
       "      <td>54.380735</td>\n",
       "      <td>0</td>\n",
       "      <td>53689.856555</td>\n",
       "      <td>(50.06, 54.719]</td>\n",
       "      <td>0.936</td>\n",
       "    </tr>\n",
       "    <tr>\n",
       "      <th>3</th>\n",
       "      <td>42.551689</td>\n",
       "      <td>0</td>\n",
       "      <td>109080.913926</td>\n",
       "      <td>(40.743, 45.401]</td>\n",
       "      <td>0.634</td>\n",
       "    </tr>\n",
       "    <tr>\n",
       "      <th>4</th>\n",
       "      <td>38.713080</td>\n",
       "      <td>0</td>\n",
       "      <td>153612.343419</td>\n",
       "      <td>(36.084, 40.743]</td>\n",
       "      <td>0.521</td>\n",
       "    </tr>\n",
       "  </tbody>\n",
       "</table>\n",
       "</div>"
      ],
      "text/plain": [
       "         age  number_of_children         income           age_bin  pct_age\n",
       "0  42.772420                   0   34396.537188  (40.743, 45.401]    0.639\n",
       "1  29.561090                   0  183350.052521  (26.766, 31.425]    0.257\n",
       "2  54.380735                   0   53689.856555   (50.06, 54.719]    0.936\n",
       "3  42.551689                   0  109080.913926  (40.743, 45.401]    0.634\n",
       "4  38.713080                   0  153612.343419  (36.084, 40.743]    0.521"
      ]
     },
     "execution_count": 45,
     "metadata": {},
     "output_type": "execute_result"
    }
   ],
   "source": [
    "df.head()"
   ]
  },
  {
   "cell_type": "code",
   "execution_count": 46,
   "id": "16c2c34d",
   "metadata": {},
   "outputs": [
    {
     "data": {
      "text/plain": [
       "0.638"
      ]
     },
     "execution_count": 46,
     "metadata": {},
     "output_type": "execute_result"
    }
   ],
   "source": [
    "(df['age'] < 42.772420).mean()"
   ]
  },
  {
   "cell_type": "markdown",
   "id": "f7ce40bf",
   "metadata": {},
   "source": [
    "63% of people are younger than this person(first person in the table)"
   ]
  },
  {
   "cell_type": "code",
   "execution_count": 47,
   "id": "20e56a6e",
   "metadata": {},
   "outputs": [
    {
     "data": {
      "image/png": "[encoded data removed]",
      "text/plain": [
       "<Figure size 432x288 with 1 Axes>"
      ]
     },
     "metadata": {
      "needs_background": "light"
     },
     "output_type": "display_data"
    }
   ],
   "source": [
    "df.boxplot('age');"
   ]
  },
  {
   "cell_type": "markdown",
   "id": "8e36669e",
   "metadata": {},
   "source": [
    "Box plot is used to visualise the distribution. Green line represents the median. Bottom line represents first quartile. Upper line - 3rd quartile.Whiskers cover 1.5 Inter Quartile Range (IQR). Data points outside the wiskers are the outliers."
   ]
  },
  {
   "cell_type": "code",
   "execution_count": 48,
   "id": "d4892dae",
   "metadata": {},
   "outputs": [
    {
     "data": {
      "image/png": "[encoded data removed]",
      "text/plain": [
       "<Figure size 432x288 with 1 Axes>"
      ]
     },
     "metadata": {
      "needs_background": "light"
     },
     "output_type": "display_data"
    }
   ],
   "source": [
    "df.boxplot('income');"
   ]
  },
  {
   "cell_type": "code",
   "execution_count": 50,
   "id": "4c771d62",
   "metadata": {},
   "outputs": [
    {
     "data": {
      "image/png": "[encoded data removed]",
      "text/plain": [
       "<Figure size 432x288 with 1 Axes>"
      ]
     },
     "metadata": {
      "needs_background": "light"
     },
     "output_type": "display_data"
    }
   ],
   "source": [
    "sns.boxplot(data= df['income']);"
   ]
  },
  {
   "cell_type": "code",
   "execution_count": 51,
   "id": "274b76ce",
   "metadata": {},
   "outputs": [
    {
     "data": {
      "image/png": "[encoded data removed]",
      "text/plain": [
       "<Figure size 432x288 with 1 Axes>"
      ]
     },
     "metadata": {
      "needs_background": "light"
     },
     "output_type": "display_data"
    }
   ],
   "source": [
    "df['income'].hist();"
   ]
  },
  {
   "cell_type": "code",
   "execution_count": 52,
   "id": "52c55a0f",
   "metadata": {},
   "outputs": [
    {
     "data": {
      "text/plain": [
       "count      1000.000000\n",
       "mean     129415.746378\n",
       "std       71251.620971\n",
       "min       21943.855414\n",
       "25%       79594.040400\n",
       "50%      114586.570939\n",
       "75%      162888.891081\n",
       "max      678006.351857\n",
       "Name: income, dtype: float64"
      ]
     },
     "execution_count": 52,
     "metadata": {},
     "output_type": "execute_result"
    }
   ],
   "source": [
    "df['income'].describe()"
   ]
  },
  {
   "cell_type": "markdown",
   "id": "856ab13e",
   "metadata": {},
   "source": [
    "Calculating distance from the mean"
   ]
  },
  {
   "cell_type": "code",
   "execution_count": 53,
   "id": "3dd171b1",
   "metadata": {},
   "outputs": [
    {
     "data": {
      "text/plain": [
       "0     -95019.209190\n",
       "1      53934.306143\n",
       "2     -75725.889823\n",
       "3     -20334.832452\n",
       "4      24196.597041\n",
       "           ...     \n",
       "995     -767.823506\n",
       "996   -62211.214705\n",
       "997    10017.011605\n",
       "998     8110.705955\n",
       "999    19033.514759\n",
       "Name: income, Length: 1000, dtype: float64"
      ]
     },
     "execution_count": 53,
     "metadata": {},
     "output_type": "execute_result"
    }
   ],
   "source": [
    "df['income'] - df['income'].mean()"
   ]
  },
  {
   "cell_type": "markdown",
   "id": "4b14647f",
   "metadata": {},
   "source": [
    "Visualizing distance from the mean distribution"
   ]
  },
  {
   "cell_type": "code",
   "execution_count": 54,
   "id": "fd701a66",
   "metadata": {},
   "outputs": [
    {
     "data": {
      "image/png": "[encoded data removed]",
      "text/plain": [
       "<Figure size 432x288 with 1 Axes>"
      ]
     },
     "metadata": {
      "needs_background": "light"
     },
     "output_type": "display_data"
    }
   ],
   "source": [
    "(df['income'] - df['income'].mean()).hist();"
   ]
  },
  {
   "cell_type": "markdown",
   "id": "b915a6bc",
   "metadata": {},
   "source": [
    "Calculate average distance from average distance"
   ]
  },
  {
   "cell_type": "code",
   "execution_count": 55,
   "id": "e0a21a4b",
   "metadata": {},
   "outputs": [
    {
     "data": {
      "text/plain": [
       "51910.29730549474"
      ]
     },
     "execution_count": 55,
     "metadata": {},
     "output_type": "execute_result"
    }
   ],
   "source": [
    "(df['income'] - df['income'].mean()).abs().mean()"
   ]
  },
  {
   "cell_type": "code",
   "execution_count": 56,
   "id": "1698622c",
   "metadata": {},
   "outputs": [
    {
     "data": {
      "text/plain": [
       "count      1000.000000\n",
       "mean     129415.746378\n",
       "std       71251.620971\n",
       "min       21943.855414\n",
       "25%       79594.040400\n",
       "50%      114586.570939\n",
       "75%      162888.891081\n",
       "max      678006.351857\n",
       "Name: income, dtype: float64"
      ]
     },
     "execution_count": 56,
     "metadata": {},
     "output_type": "execute_result"
    }
   ],
   "source": [
    "df['income'].describe()"
   ]
  },
  {
   "cell_type": "markdown",
   "id": "4d64092f",
   "metadata": {},
   "source": [
    "Standard deviation is not a mean deviation. Module leads to issues with derivative. That's why square was selected instead. It is variance."
   ]
  },
  {
   "cell_type": "markdown",
   "id": "9a9b9ae6",
   "metadata": {},
   "source": [
    "Variance"
   ]
  },
  {
   "cell_type": "code",
   "execution_count": 57,
   "id": "8b7c93bd",
   "metadata": {},
   "outputs": [
    {
     "data": {
      "text/plain": [
       "5071716697.45695"
      ]
     },
     "execution_count": 57,
     "metadata": {},
     "output_type": "execute_result"
    }
   ],
   "source": [
    "((df['income']- df['income'].mean())**2).mean()"
   ]
  },
  {
   "cell_type": "code",
   "execution_count": 58,
   "id": "9a9ff7c1",
   "metadata": {},
   "outputs": [
    {
     "data": {
      "text/plain": [
       "71215.98624927517"
      ]
     },
     "execution_count": 58,
     "metadata": {},
     "output_type": "execute_result"
    }
   ],
   "source": [
    "np.sqrt(((df['income'] - df['income'].mean())**2).mean())"
   ]
  },
  {
   "cell_type": "markdown",
   "id": "54b02ee5",
   "metadata": {},
   "source": [
    "In order to calculate standard deviation for sample, we need to divide to n-1 observations."
   ]
  },
  {
   "cell_type": "code",
   "execution_count": 60,
   "id": "604b501b",
   "metadata": {},
   "outputs": [
    {
     "data": {
      "text/plain": [
       "71251.62097066913"
      ]
     },
     "execution_count": 60,
     "metadata": {},
     "output_type": "execute_result"
    }
   ],
   "source": [
    "np.sqrt(((df['income'] - df['income'].mean())**2).sum() / (len(df)-1))"
   ]
  },
  {
   "cell_type": "markdown",
   "id": "fd469d33",
   "metadata": {},
   "source": [
    "In the initial analysis standard deviation is not very useful metric. It just shows the difference of data points across the mean value. It is the metric of spread/variation."
   ]
  },
  {
   "cell_type": "markdown",
   "id": "bd361380",
   "metadata": {},
   "source": [
    "### MAE – Mean Absolute Error or MAD – Mean. Absolute Deviation"
   ]
  },
  {
   "cell_type": "markdown",
   "id": "fd73b2a6",
   "metadata": {},
   "source": [
    "Mean absolute error is lower than standard deviation. This is because if the squares used for calculation of the std. Square is not a linear function and thus in cases where fat tales are present, they have higher weight. "
   ]
  },
  {
   "cell_type": "code",
   "execution_count": 62,
   "id": "2fb3042f",
   "metadata": {},
   "outputs": [
    {
     "data": {
      "text/plain": [
       "51910.29730549474"
      ]
     },
     "execution_count": 62,
     "metadata": {},
     "output_type": "execute_result"
    }
   ],
   "source": [
    "(df['income'] - df['income'].mean()).abs().mean()"
   ]
  },
  {
   "cell_type": "markdown",
   "id": "23d2af21",
   "metadata": {},
   "source": [
    "### Correlation"
   ]
  },
  {
   "cell_type": "code",
   "execution_count": 63,
   "id": "3f48ccf9",
   "metadata": {},
   "outputs": [
    {
     "data": {
      "text/html": [
       "<div>\n",
       "<style scoped>\n",
       "    .dataframe tbody tr th:only-of-type {\n",
       "        vertical-align: middle;\n",
       "    }\n",
       "\n",
       "    .dataframe tbody tr th {\n",
       "        vertical-align: top;\n",
       "    }\n",
       "\n",
       "    .dataframe thead th {\n",
       "        text-align: right;\n",
       "    }\n",
       "</style>\n",
       "<table border=\"1\" class=\"dataframe\">\n",
       "  <thead>\n",
       "    <tr style=\"text-align: right;\">\n",
       "      <th></th>\n",
       "      <th>age</th>\n",
       "      <th>income</th>\n",
       "    </tr>\n",
       "  </thead>\n",
       "  <tbody>\n",
       "    <tr>\n",
       "      <th>age</th>\n",
       "      <td>1.000000</td>\n",
       "      <td>-0.048164</td>\n",
       "    </tr>\n",
       "    <tr>\n",
       "      <th>income</th>\n",
       "      <td>-0.048164</td>\n",
       "      <td>1.000000</td>\n",
       "    </tr>\n",
       "  </tbody>\n",
       "</table>\n",
       "</div>"
      ],
      "text/plain": [
       "             age    income\n",
       "age     1.000000 -0.048164\n",
       "income -0.048164  1.000000"
      ]
     },
     "execution_count": 63,
     "metadata": {},
     "output_type": "execute_result"
    }
   ],
   "source": [
    "df[['age','income']].corr()"
   ]
  },
  {
   "cell_type": "markdown",
   "id": "852dfa00",
   "metadata": {},
   "source": [
    "Correlation is a mathematical metric that is based on squares. In some cases it is a useful metric, but it is important to remember that it can only show/\"catch\" linear relations that are not that often present in real life data.\n",
    "All issues related to squares are also applicable for correlation.\n",
    "To sum up, correlation should be used only in cases when we are sure that variables have a linear relationships."
   ]
  },
  {
   "cell_type": "markdown",
   "id": "58864fea",
   "metadata": {},
   "source": [
    "### Summary report"
   ]
  },
  {
   "cell_type": "markdown",
   "id": "52d43ca9",
   "metadata": {},
   "source": [
    "It is a good practise to start analysis with summary reports creation."
   ]
  },
  {
   "cell_type": "code",
   "execution_count": 64,
   "id": "0fbe6fc5",
   "metadata": {},
   "outputs": [
    {
     "data": {
      "text/html": [
       "<div>\n",
       "<style scoped>\n",
       "    .dataframe tbody tr th:only-of-type {\n",
       "        vertical-align: middle;\n",
       "    }\n",
       "\n",
       "    .dataframe tbody tr th {\n",
       "        vertical-align: top;\n",
       "    }\n",
       "\n",
       "    .dataframe thead th {\n",
       "        text-align: right;\n",
       "    }\n",
       "</style>\n",
       "<table border=\"1\" class=\"dataframe\">\n",
       "  <thead>\n",
       "    <tr style=\"text-align: right;\">\n",
       "      <th></th>\n",
       "      <th>count</th>\n",
       "      <th>mean</th>\n",
       "      <th>median</th>\n",
       "    </tr>\n",
       "    <tr>\n",
       "      <th>age_bin</th>\n",
       "      <th></th>\n",
       "      <th></th>\n",
       "      <th></th>\n",
       "    </tr>\n",
       "  </thead>\n",
       "  <tbody>\n",
       "    <tr>\n",
       "      <th>(17.402, 22.107]</th>\n",
       "      <td>49</td>\n",
       "      <td>104319.382165</td>\n",
       "      <td>88163.526875</td>\n",
       "    </tr>\n",
       "    <tr>\n",
       "      <th>(22.107, 26.766]</th>\n",
       "      <td>124</td>\n",
       "      <td>133775.791324</td>\n",
       "      <td>125960.906191</td>\n",
       "    </tr>\n",
       "    <tr>\n",
       "      <th>(26.766, 31.425]</th>\n",
       "      <td>140</td>\n",
       "      <td>130575.738767</td>\n",
       "      <td>114947.477353</td>\n",
       "    </tr>\n",
       "    <tr>\n",
       "      <th>(31.425, 36.084]</th>\n",
       "      <td>134</td>\n",
       "      <td>135654.848704</td>\n",
       "      <td>118368.874351</td>\n",
       "    </tr>\n",
       "    <tr>\n",
       "      <th>(36.084, 40.743]</th>\n",
       "      <td>131</td>\n",
       "      <td>134457.081592</td>\n",
       "      <td>128647.922872</td>\n",
       "    </tr>\n",
       "    <tr>\n",
       "      <th>(40.743, 45.401]</th>\n",
       "      <td>141</td>\n",
       "      <td>139697.676942</td>\n",
       "      <td>123441.920529</td>\n",
       "    </tr>\n",
       "    <tr>\n",
       "      <th>(45.401, 50.06]</th>\n",
       "      <td>101</td>\n",
       "      <td>142814.622910</td>\n",
       "      <td>122199.047306</td>\n",
       "    </tr>\n",
       "    <tr>\n",
       "      <th>(50.06, 54.719]</th>\n",
       "      <td>121</td>\n",
       "      <td>112563.104588</td>\n",
       "      <td>95443.103632</td>\n",
       "    </tr>\n",
       "    <tr>\n",
       "      <th>(54.719, 59.378]</th>\n",
       "      <td>50</td>\n",
       "      <td>104040.538214</td>\n",
       "      <td>91602.734609</td>\n",
       "    </tr>\n",
       "    <tr>\n",
       "      <th>(59.378, 64.037]</th>\n",
       "      <td>9</td>\n",
       "      <td>77761.750813</td>\n",
       "      <td>78167.926251</td>\n",
       "    </tr>\n",
       "  </tbody>\n",
       "</table>\n",
       "</div>"
      ],
      "text/plain": [
       "                  count           mean         median\n",
       "age_bin                                              \n",
       "(17.402, 22.107]     49  104319.382165   88163.526875\n",
       "(22.107, 26.766]    124  133775.791324  125960.906191\n",
       "(26.766, 31.425]    140  130575.738767  114947.477353\n",
       "(31.425, 36.084]    134  135654.848704  118368.874351\n",
       "(36.084, 40.743]    131  134457.081592  128647.922872\n",
       "(40.743, 45.401]    141  139697.676942  123441.920529\n",
       "(45.401, 50.06]     101  142814.622910  122199.047306\n",
       "(50.06, 54.719]     121  112563.104588   95443.103632\n",
       "(54.719, 59.378]     50  104040.538214   91602.734609\n",
       "(59.378, 64.037]      9   77761.750813   78167.926251"
      ]
     },
     "execution_count": 64,
     "metadata": {},
     "output_type": "execute_result"
    }
   ],
   "source": [
    "df.groupby('age_bin')['income'].agg(['count','mean','median'])"
   ]
  },
  {
   "cell_type": "code",
   "execution_count": 65,
   "id": "25ec34cd",
   "metadata": {},
   "outputs": [
    {
     "data": {
      "image/png": "[encoded data removed]",
      "text/plain": [
       "<Figure size 432x288 with 1 Axes>"
      ]
     },
     "metadata": {
      "needs_background": "light"
     },
     "output_type": "display_data"
    }
   ],
   "source": [
    "df.groupby('age_bin')['income'].median().plot(rot=45,xlim=0);"
   ]
  },
  {
   "cell_type": "code",
   "execution_count": 66,
   "id": "e1f56e79",
   "metadata": {},
   "outputs": [
    {
     "data": {
      "image/png": "[encoded data removed]",
      "text/plain": [
       "<Figure size 432x288 with 1 Axes>"
      ]
     },
     "metadata": {
      "needs_background": "light"
     },
     "output_type": "display_data"
    }
   ],
   "source": [
    "df.plot(x='age',y='income',kind='scatter');"
   ]
  },
  {
   "cell_type": "code",
   "execution_count": 67,
   "id": "70a1d832",
   "metadata": {},
   "outputs": [
    {
     "data": {
      "image/png": "[encoded data removed]",
      "text/plain": [
       "<Figure size 432x288 with 1 Axes>"
      ]
     },
     "metadata": {
      "needs_background": "light"
     },
     "output_type": "display_data"
    }
   ],
   "source": [
    "df.groupby('number_of_children')['income'].median().plot();"
   ]
  },
  {
   "cell_type": "code",
   "execution_count": 68,
   "id": "b3f1101f",
   "metadata": {},
   "outputs": [
    {
     "data": {
      "text/html": [
       "<div>\n",
       "<style scoped>\n",
       "    .dataframe tbody tr th:only-of-type {\n",
       "        vertical-align: middle;\n",
       "    }\n",
       "\n",
       "    .dataframe tbody tr th {\n",
       "        vertical-align: top;\n",
       "    }\n",
       "\n",
       "    .dataframe thead th {\n",
       "        text-align: right;\n",
       "    }\n",
       "</style>\n",
       "<table border=\"1\" class=\"dataframe\">\n",
       "  <thead>\n",
       "    <tr style=\"text-align: right;\">\n",
       "      <th></th>\n",
       "      <th>number_of_children</th>\n",
       "      <th>income</th>\n",
       "    </tr>\n",
       "  </thead>\n",
       "  <tbody>\n",
       "    <tr>\n",
       "      <th>number_of_children</th>\n",
       "      <td>1.000000</td>\n",
       "      <td>0.065774</td>\n",
       "    </tr>\n",
       "    <tr>\n",
       "      <th>income</th>\n",
       "      <td>0.065774</td>\n",
       "      <td>1.000000</td>\n",
       "    </tr>\n",
       "  </tbody>\n",
       "</table>\n",
       "</div>"
      ],
      "text/plain": [
       "                    number_of_children    income\n",
       "number_of_children            1.000000  0.065774\n",
       "income                        0.065774  1.000000"
      ]
     },
     "execution_count": 68,
     "metadata": {},
     "output_type": "execute_result"
    }
   ],
   "source": [
    "df[['number_of_children','income']].corr()"
   ]
  },
  {
   "cell_type": "code",
   "execution_count": 69,
   "id": "274a21d6",
   "metadata": {},
   "outputs": [
    {
     "data": {
      "image/png": "[encoded data removed]",
      "text/plain": [
       "<Figure size 432x288 with 1 Axes>"
      ]
     },
     "metadata": {
      "needs_background": "light"
     },
     "output_type": "display_data"
    }
   ],
   "source": [
    "df.plot(x='number_of_children',y='income',kind='scatter',alpha=0.2);"
   ]
  },
  {
   "cell_type": "code",
   "execution_count": 71,
   "id": "c2ff64eb",
   "metadata": {},
   "outputs": [
    {
     "data": {
      "image/png": "[encoded data removed]",
      "text/plain": [
       "<Figure size 432x288 with 1 Axes>"
      ]
     },
     "metadata": {
      "needs_background": "light"
     },
     "output_type": "display_data"
    }
   ],
   "source": [
    "df.boxplot('income',by='number_of_children');"
   ]
  },
  {
   "cell_type": "code",
   "execution_count": null,
   "id": "7ef82e31",
   "metadata": {},
   "outputs": [],
   "source": []
  }
 ],
 "metadata": {
  "kernelspec": {
   "display_name": "Python 3 (ipykernel)",
   "language": "python",
   "name": "python3"
  },
  "language_info": {
   "codemirror_mode": {
    "name": "ipython",
    "version": 3
   },
   "file_extension": ".py",
   "mimetype": "text/x-python",
   "name": "python",
   "nbconvert_exporter": "python",
   "pygments_lexer": "ipython3",
   "version": "3.9.7"
  }
 },
 "nbformat": 4,
 "nbformat_minor": 5
}
